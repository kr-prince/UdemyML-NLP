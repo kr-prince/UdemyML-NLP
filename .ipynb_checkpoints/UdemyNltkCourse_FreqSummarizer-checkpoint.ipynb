{
 "cells": [
  {
   "cell_type": "code",
   "execution_count": 2,
   "metadata": {},
   "outputs": [],
   "source": [
    "# This course is to parctise Nltk from Udemy course\n",
    "\n",
    "from nltk.tokenize import word_tokenize, sent_tokenize\n",
    "from nltk.corpus import stopwords\n",
    "from collections import defaultdict  # just a cooler version of dictionary, we dont have to worry about keys\n",
    "from string import punctuation\n",
    "from heapq import nlargest"
   ]
  },
  {
   "cell_type": "code",
   "execution_count": 46,
   "metadata": {},
   "outputs": [],
   "source": [
    "class FrequencySummarizer:\n",
    "    def __init__(self, min_cut=0.1, max_cut=0.9):\n",
    "        # words lower in frequency than min cut and higher than max cut will be ignored\n",
    "        self._min_cut = min_cut\n",
    "        self._max_cut = max_cut\n",
    "        self._stopwords = set(stopwords.words('english') + list(punctuation))\n",
    "    \n",
    "    def _compute_frequencies(self, word_sent):\n",
    "        freq = defaultdict(int)  # int is passed to make the default value as 0\n",
    "        for s in word_sent:\n",
    "        # for each sentence \n",
    "            for word in s:\n",
    "            #for each word\n",
    "                if word not in self._stopwords:\n",
    "                    freq[word] += 1\n",
    "        \n",
    "        # this will be used to normalize the frequency\n",
    "        m = float(max(freq.values()))\n",
    "        \n",
    "        for k in list(freq.keys()):\n",
    "            freq[k] = freq[k]/m  # this will normalize\n",
    "            if freq[k] >= self._max_cut or freq[k] <= self._min_cut:\n",
    "                del freq[k]  # this will remove the words have very low/high frequencies\n",
    "        \n",
    "        \n",
    "        return freq\n",
    "    \n",
    "    def summarize(self, text, n):\n",
    "        sents = sent_tokenize(text)\n",
    "        assert n <= len(sents)  # this is for sanity check\n",
    "        word_sent = [word_tokenize(s.lower()) for s in sents]  # breaks sentences into lists of words. 1 list per sentence\n",
    "        self._freq = self._compute_frequencies(word_sent)\n",
    "        ranking = defaultdict(int)  # create an empty dictionary\n",
    "        \n",
    "        for i,sent in enumerate(word_sent):  # this kind of loop gives you item and index and together\n",
    "            for w in sent:\n",
    "                if w in self._freq:  # if each word in the sentence is not a stop word (or common word) then add the frequncy to the sentence ranking\n",
    "                    ranking[i] += self._freq[w]\n",
    "                    \n",
    "        # Get the first n ranking sentences based on the rankings\n",
    "        sents_idx = nlargest(n, ranking, key=ranking.get)\n",
    "        return [sents[j] for j in sents_idx]  # return list of sentences\n",
    "            "
   ]
  },
  {
   "cell_type": "code",
   "execution_count": 47,
   "metadata": {},
   "outputs": [],
   "source": [
    "# this is to get the url and then summarize\n",
    "\n",
    "import urllib.request\n",
    "from bs4 import BeautifulSoup\n",
    "import os, ssl"
   ]
  },
  {
   "cell_type": "code",
   "execution_count": 48,
   "metadata": {},
   "outputs": [],
   "source": [
    "def get_only_text_news_post_url(url):\n",
    "    # This is added as workaround for urlopen error [SSL: CERTIFICATE_VERIFY_FAILED]. Not recommended in Prod.\n",
    "    if (not os.environ.get('PYTHONHTTPSVERIFY', '') and\n",
    "        getattr(ssl, '_create_unverified_context', None)): \n",
    "        ssl._create_default_https_context = ssl._create_unverified_context\n",
    "    \n",
    "    page = urllib.request.urlopen(url).read().decode('utf8')\n",
    "    soup = BeautifulSoup(page)\n",
    "    text = ' '.join(map(lambda p: p.text, soup.find_all('title')))  # to get the text lying between a pair of article tags\n",
    "    soup2 = BeautifulSoup(page).find(\"body\")\n",
    "#     print soup2.prettify()\n",
    "#     divs = soup2.find_all('div', {\"class\":\"Normal\"})\n",
    "    text=soup2.find('div', {\"class\":\"Normal\"}).text  # This will get the division of the article\n",
    "#     print(text.encode('utf8'))\n",
    "    \n",
    "#     print(tweet_text)\n",
    "    if soup2.find_all('div',{\"data-type\":\"twitter\"}) != []:  # This code is required to remove any twitter links which get embedded in the text\n",
    "        tweet_text=soup2.find('div',{\"data-type\":\"twitter\"}).text\n",
    "        text=text.replace(tweet_text, \"\")\n",
    "    text = \"\".join(sent_tokenize(text))    \n",
    "#     print(soup2.find_all('div', {\"class\":\"key_underline\"}))\n",
    "#     text = soup2.find('div', {\"class\":\"Normal\"}).text\n",
    "#     if soup2.find('div', {\"class\":\"Normal\"}) != []:\n",
    "        # to get the text specifically between the paragraph tags\n",
    "#         text = ' '.join(map(lambda p : p.text, soup2.find_all('div')))\n",
    "#     print(soup2)\n",
    "#     for div \n",
    "#     print(body_html)\n",
    "    ## for all div in divs\n",
    "#     for div in soup2.find_all('div'):\n",
    "#         if div == \"None\":\n",
    "#             pass\n",
    "#         elif ,{\"data-type\":\"twitter\"}\n",
    "#         else:\n",
    "#             print(div.text)\n",
    "    return soup.title.text, text"
   ]
  },
  {
   "cell_type": "code",
   "execution_count": 51,
   "metadata": {},
   "outputs": [
    {
     "name": "stdout",
     "output_type": "stream",
     "text": [
      "Owaisi criticises Mohan Bhagwat for 'lion and dog' remark at World Hindu Congress | India News - Times of India\n",
      "\t\t\t\n",
      "NEW DELHI: Rashtriya Swayamsevak Sangh (RSS) chief Mohan Bhagwat's 'lion and dog' remark made at the World Hindu Congress in Chicago on Saturday drew criticism from activists and politicians.Urging the Hindu community leaders to unite and work for the betterment of the mankind, RSS chief Mohan Bhagwat had said that Hindus have no aspiration of dominance and the community will prosper only when it works as a society.\"If a lion is alone, wild dogs can invade and destroy the lion.We must not forget that.We want to make the world better.We have no aspiration of dominance.Our influence is not a result of conquest or colonisation,” he said.Questioning Bhagwat who did he refer to, All India Majlis-e-Ittehadul Muslimeen (AIMIM) President, Asaduddin Owaisi said that the Indian constitution refers everybody as humans.\"So who are dogs and the lion?Indian Constitution defines everyone as humans & doesn't treat them as dogs or lion.The problem with RSS is that they don't believe in Indian constitution,\" said Owaisi.Owaisi further remarked that he was not surprised by the RSS chief statement since this has been their language for years.\"They (RSS) have their weird ideas to demean people by calling others dogs and assuming themselves as the lion.This has been the language of RSS from last 90 years and I am not surprised.People of India will reject such crass and crude language,\" said the AIMIM leader.Bhagwat's statement also drew criticism from Bharipa Bahujan Mahasangh leader Prakash Ambedkar.Condemning Bhagwat's statement, Ambedkar, claimed that the \"dog\" reference was for the \"Opposition parties\" in the country.\"I condemn this 'mansikta' (mentality) of Mohan Bhagwat that he has referred to Opposition parties in the country as dogs,\" Ambedkar said.He said parties have come and gone out of power but this mentality indicated that the ruling dispensation thinks that the opposition cannot fight them.He claimed that it was this mentality that led to the imprisonment of RSS functionaries in 1949 by then deputy Prime Minister Sardar Patel.The RSS members were released subsequently but the organisation has, ever since, been misusing its freedom, alleged Ambedkar.\"I believe people should rethink before bringing them to power again,\" he said.The second World Hindu Congress organised in Chicago, US, marked the commemoration of the 125th anniversary of Swami Vivekananda's historic speech at the Parliament of the World's Religions in 1893 in Chicago.While addressing a gathering of some 2,500 delegates, Bhagwat said one of the key values to bring the whole world into a team is to have controlled ego and learn to accept the consensus.\"Hindus don't live to oppose anybody.We even allow the pests to live.There are people who may oppose us.You have to tackle them without harming them,\" Bhagwat said.(With inputs from agencies)\n"
     ]
    }
   ],
   "source": [
    "someURL = 'https://timesofindia.indiatimes.com/india/bhagwat-criticised-for-lion-and-dog-remark-at-world-hindu-congress/articleshow/65735552.cms'\n",
    "# someURL = 'https://timesofindia.indiatimes.com/home/education/news/ibps-so-2019-notification-released-ibps-in-check-details-here/articleshow/66375232.cms'\n",
    "textOfUrl = get_only_text_news_post_url(someURL)\n",
    "print (textOfUrl[0] + \"\\n\" +textOfUrl[1])\n",
    "fs = FrequencySummarizer()\n",
    "summary = fs.summarize(textOfUrl[1], 3)"
   ]
  },
  {
   "cell_type": "code",
   "execution_count": 54,
   "metadata": {
    "scrolled": true
   },
   "outputs": [
    {
     "name": "stdout",
     "output_type": "stream",
     "text": [
      "\"They (RSS) have their weird ideas to demean people by calling others dogs and assuming themselves as the lion.This has been the language of RSS from last 90 years and I am not surprised.People of India will reject such crass and crude language,\" said the AIMIM leader.Bhagwat's statement also drew criticism from Bharipa Bahujan Mahasangh leader Prakash Ambedkar.Condemning Bhagwat's statement, Ambedkar, claimed that the \"dog\" reference was for the \"Opposition parties\" in the country.\n",
      "\"I condemn this 'mansikta' (mentality) of Mohan Bhagwat that he has referred to Opposition parties in the country as dogs,\" Ambedkar said.He said parties have come and gone out of power but this mentality indicated that the ruling dispensation thinks that the opposition cannot fight them.He claimed that it was this mentality that led to the imprisonment of RSS functionaries in 1949 by then deputy Prime Minister Sardar Patel.The RSS members were released subsequently but the organisation has, ever since, been misusing its freedom, alleged Ambedkar.\n",
      "\"I believe people should rethink before bringing them to power again,\" he said.The second World Hindu Congress organised in Chicago, US, marked the commemoration of the 125th anniversary of Swami Vivekananda's historic speech at the Parliament of the World's Religions in 1893 in Chicago.While addressing a gathering of some 2,500 delegates, Bhagwat said one of the key values to bring the whole world into a team is to have controlled ego and learn to accept the consensus.\n"
     ]
    }
   ],
   "source": [
    "print('\\n'.join(summary))"
   ]
  },
  {
   "cell_type": "code",
   "execution_count": null,
   "metadata": {},
   "outputs": [],
   "source": []
  },
  {
   "cell_type": "code",
   "execution_count": null,
   "metadata": {},
   "outputs": [],
   "source": []
  }
 ],
 "metadata": {
  "kernelspec": {
   "display_name": "Python 3",
   "language": "python",
   "name": "python3"
  },
  "language_info": {
   "codemirror_mode": {
    "name": "ipython",
    "version": 3
   },
   "file_extension": ".py",
   "mimetype": "text/x-python",
   "name": "python",
   "nbconvert_exporter": "python",
   "pygments_lexer": "ipython3",
   "version": "3.6.6"
  }
 },
 "nbformat": 4,
 "nbformat_minor": 2
}

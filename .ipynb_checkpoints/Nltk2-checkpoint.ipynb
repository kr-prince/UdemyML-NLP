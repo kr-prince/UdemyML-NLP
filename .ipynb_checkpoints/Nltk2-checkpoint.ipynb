{
 "cells": [
  {
   "cell_type": "code",
   "execution_count": 2,
   "metadata": {},
   "outputs": [],
   "source": [
    "from bs4 import BeautifulSoup"
   ]
  },
  {
   "cell_type": "code",
   "execution_count": 3,
   "metadata": {},
   "outputs": [],
   "source": [
    "html=['<html><heading style=\"font-size:20px\"><i>This is the title<br><br></i></heading>',\n",
    "     '<body><b>This is the body</b><p id=\"para1\">This is para1<a href=\"www.google.com\">Google</a></p>',\n",
    "     '<p id=\"para2\">This is para 2</p></body></html>']"
   ]
  },
  {
   "cell_type": "code",
   "execution_count": 4,
   "metadata": {},
   "outputs": [],
   "source": [
    "html = ''.join(html)"
   ]
  },
  {
   "cell_type": "code",
   "execution_count": 6,
   "metadata": {},
   "outputs": [
    {
     "name": "stderr",
     "output_type": "stream",
     "text": [
      "/home/prince/anaconda2/lib/python2.7/site-packages/bs4/__init__.py:181: UserWarning: No parser was explicitly specified, so I'm using the best available HTML parser for this system (\"lxml\"). This usually isn't a problem, but if you run this code on another system, or in a different virtual environment, it may use a different parser and behave differently.\n",
      "\n",
      "The code that caused this warning is on line 174 of the file /home/prince/anaconda2/lib/python2.7/runpy.py. To get rid of this warning, change code that looks like this:\n",
      "\n",
      " BeautifulSoup(YOUR_MARKUP})\n",
      "\n",
      "to this:\n",
      "\n",
      " BeautifulSoup(YOUR_MARKUP, \"lxml\")\n",
      "\n",
      "  markup_type=markup_type))\n"
     ]
    }
   ],
   "source": [
    "soup = BeautifulSoup(html)"
   ]
  },
  {
   "cell_type": "code",
   "execution_count": 7,
   "metadata": {},
   "outputs": [
    {
     "name": "stdout",
     "output_type": "stream",
     "text": [
      "<html>\n",
      " <body>\n",
      "  <heading style=\"font-size:20px\">\n",
      "   <i>\n",
      "    This is the title\n",
      "    <br/>\n",
      "    <br/>\n",
      "   </i>\n",
      "  </heading>\n",
      "  <b>\n",
      "   This is the body\n",
      "  </b>\n",
      "  <p id=\"para1\">\n",
      "   This is para1\n",
      "   <a href=\"www.google.com\">\n",
      "    Google\n",
      "   </a>\n",
      "  </p>\n",
      "  <p id=\"para2\">\n",
      "   This is para 2\n",
      "  </p>\n",
      " </body>\n",
      "</html>\n"
     ]
    }
   ],
   "source": [
    "print(soup.prettify())"
   ]
  },
  {
   "cell_type": "code",
   "execution_count": 9,
   "metadata": {},
   "outputs": [
    {
     "name": "stdout",
     "output_type": "stream",
     "text": [
      "html\n",
      "body\n",
      "This is the titleThis is the bodyThis is para1GoogleThis is para 2\n"
     ]
    }
   ],
   "source": [
    "print(soup.html.name)\n",
    "print(soup.body.name)\n",
    "print(soup.body.text)"
   ]
  },
  {
   "cell_type": "code",
   "execution_count": 16,
   "metadata": {},
   "outputs": [
    {
     "name": "stdout",
     "output_type": "stream",
     "text": [
      "[<body><heading style=\"font-size:20px\"><i>This is the title<br/><br/></i></heading><b>This is the body</b><p id=\"para1\">This is para1<a href=\"www.google.com\">Google</a></p><p id=\"para2\">This is para 2</p></body>]\n",
      "------------------\n",
      "[<heading style=\"font-size:20px\"><i>This is the title<br/><br/></i></heading>, <b>This is the body</b>, <p id=\"para1\">This is para1<a href=\"www.google.com\">Google</a></p>, <p id=\"para2\">This is para 2</p>]\n"
     ]
    }
   ],
   "source": [
    "print(soup.html.contents)\n",
    "print '------------------'\n",
    "print(soup.body.contents)"
   ]
  },
  {
   "cell_type": "code",
   "execution_count": 20,
   "metadata": {},
   "outputs": [
    {
     "name": "stdout",
     "output_type": "stream",
     "text": [
      "html\n",
      "<p id=\"para1\">This is para1<a href=\"www.google.com\">Google</a></p>\n",
      "<heading style=\"font-size:20px\"><i>This is the title<br/><br/></i></heading>\n"
     ]
    }
   ],
   "source": [
    "print(soup.body.parent.name)\n",
    "print(soup.b.nextSibling)\n",
    "print(soup.b.previousSibling)"
   ]
  },
  {
   "cell_type": "code",
   "execution_count": 22,
   "metadata": {},
   "outputs": [
    {
     "name": "stdout",
     "output_type": "stream",
     "text": [
      "This is the body\n"
     ]
    }
   ],
   "source": [
    "bold = soup.findAll('b')\n",
    "print(bold[0].text)"
   ]
  },
  {
   "cell_type": "code",
   "execution_count": 25,
   "metadata": {},
   "outputs": [
    {
     "name": "stdout",
     "output_type": "stream",
     "text": [
      "This is para1Google This is para 2\n"
     ]
    }
   ],
   "source": [
    "paras = ' '.join([para.text for para in soup.findAll('p')])\n",
    "print(paras)"
   ]
  },
  {
   "cell_type": "code",
   "execution_count": 30,
   "metadata": {},
   "outputs": [
    {
     "name": "stdout",
     "output_type": "stream",
     "text": [
      "This is para 2\n"
     ]
    }
   ],
   "source": [
    "print soup.findAll(id=\"para2\")[0].text"
   ]
  },
  {
   "cell_type": "code",
   "execution_count": 33,
   "metadata": {},
   "outputs": [
    {
     "name": "stdout",
     "output_type": "stream",
     "text": [
      "This is the title\n"
     ]
    }
   ],
   "source": [
    "print soup.findAll(style=\"font-size:20px\")[0].text"
   ]
  },
  {
   "cell_type": "code",
   "execution_count": 50,
   "metadata": {},
   "outputs": [
    {
     "name": "stdout",
     "output_type": "stream",
     "text": [
      "<b>This is the body</b>\n"
     ]
    }
   ],
   "source": [
    "print soup.find(['b','p'])"
   ]
  },
  {
   "cell_type": "code",
   "execution_count": 53,
   "metadata": {},
   "outputs": [
    {
     "name": "stdout",
     "output_type": "stream",
     "text": [
      "www.google.com  -  Google None\n"
     ]
    }
   ],
   "source": [
    "links = soup.find(['a'])\n",
    "print links['href'], ' - ', links.text, links.href"
   ]
  },
  {
   "cell_type": "code",
   "execution_count": 59,
   "metadata": {},
   "outputs": [
    {
     "name": "stdout",
     "output_type": "stream",
     "text": [
      "This is para 2\n"
     ]
    }
   ],
   "source": [
    "print soup.find(text=\"Google\").findNext('p').text"
   ]
  },
  {
   "cell_type": "code",
   "execution_count": 62,
   "metadata": {},
   "outputs": [
    {
     "name": "stdout",
     "output_type": "stream",
     "text": [
      "[<p id=\"para1\">This is para1<a href=\"www.google.com\">Google</a></p>, <p id=\"para2\">This is para 2</p>]\n",
      "[<p id=\"para1\">This is para1<a href=\"www.google.com\">Google</a></p>, <p id=\"para2\">This is para 2</p>]\n"
     ]
    }
   ],
   "source": [
    "print soup.body('p')\n",
    "print soup.findAll('p')"
   ]
  },
  {
   "cell_type": "code",
   "execution_count": null,
   "metadata": {},
   "outputs": [],
   "source": []
  }
 ],
 "metadata": {
  "kernelspec": {
   "display_name": "Python 2",
   "language": "python",
   "name": "python2"
  },
  "language_info": {
   "codemirror_mode": {
    "name": "ipython",
    "version": 2
   },
   "file_extension": ".py",
   "mimetype": "text/x-python",
   "name": "python",
   "nbconvert_exporter": "python",
   "pygments_lexer": "ipython2",
   "version": "2.7.15"
  }
 },
 "nbformat": 4,
 "nbformat_minor": 2
}

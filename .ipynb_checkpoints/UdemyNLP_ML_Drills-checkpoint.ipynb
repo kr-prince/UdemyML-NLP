{
 "cells": [
  {
   "cell_type": "code",
   "execution_count": 1,
   "metadata": {},
   "outputs": [],
   "source": [
    "# Importing the libraries\n",
    "\n",
    "import re\n",
    "import requests\n",
    "import urllib.request\n",
    "from bs4 import BeautifulSoup\n",
    "from nltk.tokenize import sent_tokenize, word_tokenize\n",
    "from nltk.corpus import stopwords\n",
    "from collections import defaultdict\n",
    "from string import punctuation\n",
    "from heapq import nlargest\n",
    "from math import log\n",
    "from sklearn.feature_extraction.text import TfidfVectorizer\n",
    "from sklearn.cluster import KMeans"
   ]
  },
  {
   "cell_type": "code",
   "execution_count": 2,
   "metadata": {},
   "outputs": [],
   "source": [
    "def getNYTText(url):\n",
    "    \"\"\"\n",
    "    This function takes in a url from The NewYork Times and returns the text and title parts of the article. \n",
    "    It uses BeautifulSoup to find the relevant tags.\n",
    "    \"\"\"\n",
    "    response = requests.get(url)\n",
    "    soup = BeautifulSoup(response.content)\n",
    "    page = str(soup)     # this fetches the full html part of page as text from the soup object\n",
    "    title = soup.find(\"h1\").getText()    # tag for article title\n",
    "    mydivs = soup.findAll(\"div\", {\"class\":re.compile(\"^StoryBodyCompanionColumn\")})    # tag for article text\n",
    "#     print(mydivs)\n",
    "    text = ''.join(map(lambda d : d.text.strip(), mydivs))    # combining the text in all the divs in mydivs\n",
    "    return text, title"
   ]
  },
  {
   "cell_type": "code",
   "execution_count": 3,
   "metadata": {},
   "outputs": [
    {
     "name": "stdout",
     "output_type": "stream",
     "text": [
      "('The cosmologist and pop-science icon Stephen Hawking, who died last March on Einstein’s birthday, spoke out from the grave recently in the form of his last scientific paper. Appropriately for a man on the Other Side, the paper is about how to escape from a black hole.Cleansed of its abstract mathematics, the paper is an ode to memory, loss and the oldest of human yearnings, the desire for transcendence. As the doomed figure in Bruce Springsteen’s “Atlantic City” sings, “Everything dies, baby, that’s a fact, but maybe everything that dies someday comes back.”Dr. Hawking was the manifestation of perseverance; stricken by Lou Gehrig’s disease, he managed to conquer the universe from a wheelchair. The fate of matter or information caught in a black hole is one that defined his career, and it has become one of the deepest issues in physics.Black holes are objects so dense that, according to Einstein’s law of general relativity, not even light can escape. In 1974, Dr. Hawking turned these objects, and the rest of physics, inside-out. He discovered, to his surprise, that the random quantum effects that rule the microscopic world would cause black holes to leak and, eventually, explode and disappear.In the fullness of time (which in many cases would be longer than the current age of the universe), all the mass and energy that had fallen into the hole would come back out. But, according to the classical Einstein equations, black holes are disturbingly simple; their only properties are mass, electrical charge and angular momentum. Every other detail about what falls into a black hole disappears from the universe’s memory banks. A black hole has no complications — no hair — the saying went.So the fountain of matter and energy exiting a black hole would be random, Dr. Hawking emphasized in a paper in 1975. If you fell into one and came back out, you would lack all the details that had made you: male or female, blue eyes or brown, Yankee fan or Red Sox fan. The equation describing that fate is inscribed on Dr. Hawking’s tombstone, in Westminster Abbey, where it presumably will endure the ages.That’s some kind of reincarnation. If nature can forget you, it could forget anything — a deathblow to the ability of science to reconstruct the past or predict the future. “It’s the past that tells us who we are,” Dr. Hawking told a conference at Harvard a couple years ago. “Without it, we lose our identity.”In effect, Dr. Hawking maintained in his 1975 paper, the paradoxical quantum effects that Einstein had once dismissed, saying that God doesn’t play dice, were adding an extra forgetfulness to nature. “God not only plays dice,” Dr. Hawking wrote, “but he often throws them where they can’t be seen.”Those were fighting words to other physicists; it was a basic tenet that the proverbial film of history can be run backward, to reconstruct what happened in, say, the collision of a pair of subatomic particles in a high-energy collider.[Sign up to get reminders for space and astronomy events on your calendar.]Thirty years later Dr. Hawking recanted, but the argument went on. The “information paradox,” as it is known, remained at the center of physics because nobody, not even Dr. Hawking, could explain how black holes actually process the information that enters or exits them.But scientists have been having a blast theorizing about the nature of space-time, information and memory. Some have suggested that you can’t even get into a black hole without being vaporized by a firewall of energy, let alone get back out.Recent years have brought a glimmer of hope. Andrew Strominger of Harvard discovered that, when viewed from the right mathematical perspective — that of a light ray headed toward the infinite future — black holes are more complicated than we thought. They have what Dr. Strominger has called “soft hair,” in the form of those imaginary light rays, which can be ruffled, stroked, twisted and otherwise arranged by material coming into the black hole. In principle, this hair could encode information on the surface of the black hole, recording all those details that Einstein’s equations supposedly leave out.Whether this is enough to save physics, let alone a person falling into a black hole, is what Dr. Hawking was working on in the years before he died.“When I wrote my paper 40 years ago, I thought the information would pass into another universe,” he told me at the Harvard conference. Now, he said, it’s on the surface of the black hole. “The information will be re-emitted when the black hole evaporates.”Other experts, including Juan Maldacena of the Institute for Advanced Study in Princeton, have been more measured, saying that if soft hair does not solve the information paradox, it might at least help.In his recent, posthumous report, which drew a flurry of press, Dr. Hawking and his colleagues endeavored to show how this optimistic idea could work. Besides Dr. Hawking, the paper’s authors were Dr. Strominger as well as Malcolm Perry and Sasha Haco of Cambridge University.Dr. Strominger is hopeful that physicists one day will be able to understand black holes just by reading what is written in this soft hair.“We didn’t prove it,” he said in an email. But, he added, they did succeed in showing how all the pieces could fit together: “If our guess is right, this paper will be of central importance. If not, it will be a technical footnote.”Few of us, including Dr. Hawking, ever harbored the hope that solving the information paradox would bring back our parents, the dinosaurs or Joe DiMaggio from whatever was waiting in Atlantic City. Somewhere along the way we’ve all made some sort of accommodation with the idea that our personal timelines will come to an end, but we take some comfort in knowing that we will be remembered, and that our genes and books and names will carry on.Last year’s Pixar/Disney movie “Coco,” which I happened to watch with my daughter recently, tells the story of a young Mexican boy who visits the Land of the Dead to find an ancestor who can help him in his quest to become a musician. The Land of the Dead is a lively place, but its denizens can only stay there, it turns out, as long as someone remembers them. When the memories vanish, so even do the animated skeletonsSome astronomers now say that even this pale version of salvation might be in jeopardy. A mysterious force called dark energy is speeding up the expansion of the universe. Someday, these experts say, if the expansion continues, making the galaxies fly away faster and faster, the rest of the universe will be permanently out of sight to us, and we will be forever out of sight of it. It would be as if we were surrounded by a black hole, into which all our information and memory were disappearing.In our little bubble of the Milky Way, we might always remember Aretha and Cleopatra and Shakespeare and Hawking. But will the rest of the universe remember us?', 'Stephen Hawking’s Final Paper: How to Escape From a Black Hole')\n"
     ]
    }
   ],
   "source": [
    "print(getNYTText(\"https://www.nytimes.com/2018/10/23/science/stephen-hawking-final-paper.html?action=click&contentCollection=science&region=rank&module=package&version=highlights&contentPlacement=2&pgtype=sectionfront\"))"
   ]
  },
  {
   "cell_type": "code",
   "execution_count": 4,
   "metadata": {},
   "outputs": [],
   "source": [
    "def getTheHinduText(url):\n",
    "    \"\"\"\n",
    "    This function takes in a url from The Hindu and returns the text and title parts of the article. \n",
    "    It uses BeautifulSoup to find the relevant tags.\n",
    "    \"\"\"\n",
    "    response = requests.get(url)\n",
    "    soup = BeautifulSoup(response.content)\n",
    "    page = str(soup)    # Get the html from the response page using soup object\n",
    "    title = soup.find(\"h1\", {\"class\":\"title\"}).text.strip()    # tag for title\n",
    "    mydivs = soup.findAll(\"div\", {\"id\":re.compile(\"^content-body-\")})    # tag for divs having text\n",
    "    text = ' '.join(map(lambda d : d.text.strip(), mydivs))    # combine all the text in mydivs \n",
    "    return text, title"
   ]
  },
  {
   "cell_type": "code",
   "execution_count": 5,
   "metadata": {},
   "outputs": [
    {
     "name": "stdout",
     "output_type": "stream",
     "text": [
      "('Researchers have for the first time used a naturally occurring material — aloe vera gel — which inherently has superior oil repelling (oleophobic) property to separate oil from water. So far researchers have only been mimicking the structure of naturally existing materials such as fish scales to achieve super oleophobicity. While conventionally the topography and chemistry of materials had to optimised to make them repel oil extremely, the use of aloe vera gel–based coating modified with some molecules was sufficient to make the surface of substrates extremely oil repelling.Aloe leavesThe team led by Dr. Uttam Manna from the Department of Chemistry at Indian Institute of Technology (IIT) Guwahati used the thick gel contained in the leaves of aloe vera plant to convert a commercially available porous material that is oil-loving (oleophilic) to become extremely oil-repelling by coating it with the gel.Like a drop of water that nearly retains its spherical shape when placed on a lotus leaf, the commercially available material coated with the gel exhibited high oil contact angle of about 150 degrees under water. The greater the oleophobic nature of a surface the higher will be the contact angle and more spherical will be the shape of the oil droplet.The researchers found the gel by itself had superior oleophobicity with contact angle of 156 degree. Even when subjected to extreme conditions such as exposure to boiling (100 degree C) water for 60 minutes and liquid nitrogen (–196 degree C) for 24 hours the oleophobic nature of the gel was not compromised. Similarly, the oleophobicity of the gel remained intact when exposed to various chemically harsh conditions such as very acidic (pH 1) and highly alkaline (pH 12) medium, artificial sea water and river water for 30 days.Super-oleophobic“We were surprised seeing the gel exhibit super-oleophobicity. But even more surprising was that the gel retained super-oleophobicity even after we exposed it to several harsh conditions,” says Arpita Shome from IIT Guwahati and first author of a paper published in the Journal of Materials Chemistry A.The researchers used the gel to coat a commercially available porous material that is inherently oleophilic (oil-loving). Once coated, the material became extremely oil-repelling with contact angle of 151 degrees. The super-oleophobicity remained intact even when exposed to severe chemical conditions (highly acidic and alkaline water, artificial sea water and river water) but reduced a bit (146 degrees) when subjected to bending and twisting. But the oleophobicity reduced drastically to less than 100 degrees under severe physical abrasions such as sand paper abrasion, knife scratching test etc.The team directed its efforts to make the surface exhibit super-oleophobicity even after extreme physical abuse. For that they used a small molecule (dipentaerythritol pentaacrylate or 5Acl) to bind to the coated gel. “About 99% of the gel is made of water, and amino acids and enzymes among other things make up the remaining 1%. The amino acids and enzymes provide amine group which helps in binding (cross linkage) with the small molecule,” says Dr. Manna.Post binding with the small molecule, the oleophobicity reduced to 138 degrees. “We increased the oleophobicity to 155 degrees by adding glucamine, which is hydrophilic, to the coating,” Dr. Manna says. The oil-repelling nature remained intact even when the material was stretched by 150% and bent for about 1,000 times. Being porous and stretchable, the coated material acts a membrane to separate oil and water. Since it is super-oleophobic (and therefore highly water-loving), the membrane allows water to pass through it thus helping in separating oil from water.The researchers were able to separate both light (kerosene) and heavy oil from water using the membrane. “We were able to use the membrane repeatedly for at least 25 times to separate oil from water and the efficiency of separation remained above 97%,” Dr. Manna says. The membrane retained its efficiency to separate oil and water even under harsh conditions of extreme pH, high salinity, and low and high temperatures.', 'IIT Guwahati uses aloe vera to remove oil from water')\n"
     ]
    }
   ],
   "source": [
    "print(getTheHinduText(\"https://www.thehindu.com/sci-tech/science/iit-guwahati-uses-aloe-vera-to-remove-oil-from-water/article25345614.ece\"))"
   ]
  },
  {
   "cell_type": "code",
   "execution_count": 6,
   "metadata": {},
   "outputs": [],
   "source": [
    "def scrapeSource(url, checkFragment, scraperFunc=getTheHinduText):\n",
    "    \"\"\"\n",
    "    This function is used like a scraper. The url of some section is given to it and it checks all the associated\n",
    "    links in the page and filters the valid links of articles. It uses the individal getText functions to get \n",
    "    their text and title and stores them together.\n",
    "    \"\"\"\n",
    "    urlBodies = {}\n",
    "    response = requests.get(url)\n",
    "    soup = BeautifulSoup(response.content)   # pass the response to initialise BeautifulSoup\n",
    "    \n",
    "    badLinks = 0    # just counting the invalid links\n",
    "\n",
    "    for link in soup.findAll(\"a\"):\n",
    "        try:\n",
    "            if ( link['href'] not in urlBodies and \\\n",
    "                            ((checkFragment is not None and checkFragment in link['href'] ) \\\n",
    "                                or (checkFragment is None )) and link['href'].endswith(\".ece\") ):\n",
    "                bodyText = scraperFunc(link['href'])\n",
    "                if len(bodyText) > 0:\n",
    "                    urlBodies[link['href']] = bodyText\n",
    "        except:\n",
    "            # print(\"Error : \", link)\n",
    "            badLinks += 1\n",
    "    return urlBodies"
   ]
  },
  {
   "cell_type": "code",
   "execution_count": 7,
   "metadata": {},
   "outputs": [
    {
     "name": "stdout",
     "output_type": "stream",
     "text": [
      "47\n"
     ]
    }
   ],
   "source": [
    "print(len(scrapeSource(\"https://www.thehindu.com/sci-tech/science/\", \"https://www.thehindu.com/sci-tech/science/\")))"
   ]
  },
  {
   "cell_type": "code",
   "execution_count": 8,
   "metadata": {},
   "outputs": [],
   "source": [
    "class FrequencySummarizer:\n",
    "    \"\"\"\n",
    "    This Frequency summarizer class has methods to find the most important words and sentences from the given\n",
    "    (title, article text) pair. Stopwords and punctuation are excluded as part of the pre-processing\n",
    "    \"\"\"\n",
    "    def __init__(self, min_cut = 0.1, max_cut = 0.9):\n",
    "        # min and max cut are the threshold for max and min allowed frequency\n",
    "        self._min_cut = min_cut\n",
    "        self._max_cut = max_cut\n",
    "        self._stopwords = set(stopwords.words('english') + list(punctuation) + [u\"'s\", '\"'])\n",
    "        \n",
    "    def _compute_frequencies(self, word_sent, customStopWords = None):\n",
    "        \"\"\"\n",
    "        Method to find the frequencies based scoring of the words and sentences in the text\n",
    "        \"\"\"\n",
    "        freq = defaultdict(int) # Using defaultdict so that no special handling is needed to add new keys\n",
    "        if customStopWords is None:\n",
    "            stopwords = self._stopwords\n",
    "        else:\n",
    "            # we can pass our own set of stopwords to merge them with the default set of stopwords\n",
    "            stopwords = set(customStopWords).union(self._stopwords)\n",
    "        \n",
    "        for sent in word_sent:\n",
    "            for word in sent:\n",
    "                if word not in stopwords:\n",
    "                    # Add 1 to frequency score for each occurrence of the word\n",
    "                    freq[word] += 1\n",
    "        \n",
    "        m = float(max(freq.values()))    # Get the maximum value of frequency to normalise\n",
    "        for word in list(freq.keys()):\n",
    "            freq[word] /= m\n",
    "            if freq[word] >= self._max_cut or freq[word] <= self._min_cut:\n",
    "                del freq[word]\n",
    "                \n",
    "        return freq\n",
    "    \n",
    "    def extractFeatures(self, article, nfeatures, customStopWords=None):\n",
    "        \"\"\"\n",
    "        This method returns the selected features(words based on frequency scores) from the given article. \n",
    "        \"\"\"\n",
    "        # The articles passed to this method is itself a tuple(articles-text, title). The text and title are \n",
    "        # extracted and the text is tokenized into sentences and words\n",
    "        text = article[0]\n",
    "        title = article[1]\n",
    "        sentences = sent_tokenize(text)\n",
    "        words_sent = [word_tokenize(sent.lower()) for sent in sentences]\n",
    "        \n",
    "        # using the class defined method to get the freq scores of each words\n",
    "        self._freq = self._compute_frequencies(words_sent, customStopWords) \n",
    "        \n",
    "        if nfeatures < 0:\n",
    "            # for negative value, we return all the words as features\n",
    "            return nlargest(len(self._freq.keys()), self._freq, key=self._freq.get)\n",
    "        else:\n",
    "            # for positive values return the first 'nfeatures' important words\n",
    "            return nlargest(nfeatures, self._freq, key=self._freq.get)\n",
    "    \n",
    "    def extractRawFrequencies(self, article):\n",
    "        \"\"\"\n",
    "        This method just returns the frequency count of all the words in the given article\n",
    "        \"\"\"\n",
    "        # The articles passed to this method is itself a tuple(articles-text, title). The text and title are \n",
    "        # extracted and the text is tokenized into sentences and words\n",
    "        text = article[0]\n",
    "        title = article[1]\n",
    "        sentences = sent_tokenize(text)\n",
    "        words_sent = [word_tokenize(sent.lower()) for sent in sentences]\n",
    "        \n",
    "        freq = defaultdict(int)\n",
    "        for sents in words_sent:\n",
    "            for word in sents:\n",
    "                if word not in self._stopwords:\n",
    "                    # Add 1 to frequency score for each occurrence of the word\n",
    "                    freq[word] += 1\n",
    "        return freq\n",
    "    \n",
    "    def summarize(self, article, nfeatures):\n",
    "        \"\"\"\n",
    "        This method summarizes the given article based on the given number of features\n",
    "        \"\"\"\n",
    "        text = article[0]\n",
    "        title = article[1]\n",
    "        sentences = sent_tokenize(text)\n",
    "        words_sent = [word_tokenize(sent.lower()) for sent in sentences]\n",
    "        \n",
    "        # Get the frequency using the class defined method\n",
    "        self._freq = self._compute_frequencies(words_sent)\n",
    "        \n",
    "        ranking = defaultdict(int)    # this is for ranking each of the sentences\n",
    "        for i, sentence in enumerate(words_sent):\n",
    "            for word in sentence:\n",
    "                if word in self._freq:\n",
    "                    # if the word is found in the frequency list, then the ranking of the sentence(which was \n",
    "                    # carrying this word) increases with the same value as the normalised frequency of the word\n",
    "                    ranking[i] += self._freq[word]\n",
    "        \n",
    "        # Getting the top 'nfeatures' sentences\n",
    "        sentences_idx = nlargest(nfeatures, ranking, key=ranking.get)\n",
    "        return [sentences[i] for i in sentences_idx]        "
   ]
  },
  {
   "cell_type": "code",
   "execution_count": 9,
   "metadata": {},
   "outputs": [],
   "source": [
    "# This is for setting up the urls from where the articles will be picked up\n",
    "\n",
    "urlTheHinduNonScience = \"https://www.thehindu.com/sport/\"\n",
    "urlNewYorkTimesNonScience = \"https://www.nytimes.com/pages/sports/index.html\"\n",
    "urlTheHinduScience = \"https://www.thehindu.com/sci-tech/science/\"\n",
    "urlNewYorkTimesScience = \"https://www.nytimes.com/section/science\""
   ]
  },
  {
   "cell_type": "code",
   "execution_count": 10,
   "metadata": {},
   "outputs": [],
   "source": [
    "# This actually uses the urls defined above and collects all the urls together\n",
    "\n",
    "theHinduScienceArticles = scrapeSource(urlTheHinduScience, urlTheHinduScience)\n",
    "theHinduNonScienceArticles = scrapeSource(urlTheHinduNonScience, urlTheHinduNonScience)\n",
    "theNewYorkTimesScienceArticles = scrapeSource(urlNewYorkTimesScience, '2018', getNYTText)\n",
    "theNewYorkTimesNonScienceArticles = scrapeSource(urlNewYorkTimesNonScience, '2018', getNYTText)"
   ]
  },
  {
   "cell_type": "code",
   "execution_count": 11,
   "metadata": {},
   "outputs": [],
   "source": [
    "# Now we will bring the articles together in an easy to classify form\n",
    "\n",
    "articleSummaries = {}\n",
    "\n",
    "# this is for clubbing the Science articles \n",
    "for scienceURLDict in [theNewYorkTimesScienceArticles, theHinduScienceArticles]:\n",
    "    for articleURL in scienceURLDict:\n",
    "        # this checks if their is a text-article format for this url\n",
    "        if scienceURLDict[articleURL][0] is not None:\n",
    "            # this checks if the text has been extracted properly\n",
    "            if len(scienceURLDict[articleURL][0]) > 0:\n",
    "                fs = FrequencySummarizer()\n",
    "                # get 25 most important words\n",
    "                summary = fs.extractFeatures(scienceURLDict[articleURL], 25)\n",
    "                articleSummaries[articleURL] = {'feature-vector' : summary, 'label' : 'Science'}\n",
    "\n",
    "# this is for clubbing the Non Science articles\n",
    "for nonScienceURLDict in [theNewYorkTimesNonScienceArticles, theHinduNonScienceArticles]:\n",
    "    for articleURL in nonScienceURLDict:\n",
    "        # this checks if their is a text-article format for this url\n",
    "        if nonScienceURLDict[articleURL][0] is not None:\n",
    "            # this checks if the text has been extracted properly\n",
    "            if len(nonScienceURLDict[articleURL][0]) > 0:\n",
    "                fs = FrequencySummarizer()\n",
    "                # get 25 most important words\n",
    "                summary = fs.extractFeatures(nonScienceURLDict[articleURL], 25)\n",
    "                articleSummaries[articleURL] = {'feature-vector' : summary, 'label' : 'Non-Science'}"
   ]
  },
  {
   "cell_type": "code",
   "execution_count": 12,
   "metadata": {},
   "outputs": [
    {
     "name": "stdout",
     "output_type": "stream",
     "text": [
      "{'https://www.thehindu.com/sci-tech/science/adieu-and-thank-you-kepler/article25418100.ece': {'feature-vector': ['october', '30', '2018', 'nasa', 'announced', 'telescope', 'run', 'fuel', 'retire', 'spacecraft', 'things', 'taught', 'us', 'nine', 'years', 'deep', 'exploration'], 'label': 'Science'}, 'https://www.thehindu.com/sci-tech/science/demystifying-science-what-are-van-der-waals-vdw-materials/article25414594.ece': {'feature-vector': ['key', 'vdw', 'layers', '—', 'magnetism', 'six', 'years', 'ago', 'exist', 'today', 'researchers', 'believe', 'hold', '‘', 'post-silicon', '’', 'electronics', 'made', 'piles', 'ultra-thin', 'held', 'together', 'weak', 'van', 'der'], 'label': 'Science'}, 'https://www.thehindu.com/sci-tech/science/gsat-11-returns-to-guiana-for-december-launch/article25414620.ece': {'feature-vector': ['indian', 'satellite', 'communication', 'built', 'connectivity', 'back', 'december', 'south', 'port', 'time', 'bengaluru', 'sivan', 'isro', 'last', 'week', 'european', '’', 'heaviest', 'date', 'faster', 'internet', 'guiana', 'centre', 'early', 'launch.it'], 'label': 'Science'}, 'https://www.thehindu.com/sci-tech/science/rich-diet-lowers-stress-in-crop-eating-elephants/article25413344.ece': {'feature-vector': ['areas', 'levels', '—', 'agricultural', 'protected', '’', 'higher', 'crops', 'may', 'elephant', 'hassan', 'quality', 'risk', 'diets', 'compared', 'crop-raiding', 'team', 'researchers', 'raiding', 'study', 'showed', 'pokharel', 'food', 'availability', 'diet'], 'label': 'Science'}, 'https://www.thehindu.com/sci-tech/science/decoding-musics-effect-on-brain-networks/article25413326.ece': {'feature-vector': ['music', 'cognitive', 'regions', 'networks', 'power', 'found', 'responsible', 'neural', '—', '“', '”', 'frontal', 'parietal', 'work', 'listening', 'well', 'using', 'eeg', 'researchers', 'institute', 'iit', 'kanpur', 'mechanisms', 'enhanced', 'students'], 'label': 'Science'}, 'https://www.thehindu.com/sci-tech/science/ncbs-loss-of-small-rna-molecule-is-key-to-rice-domestication/article25413243.ece': {'feature-vector': ['rice', 'wild', 'domesticated', 'mir397', 'plant', 'domestication', 'rna', 'study', 'many', 'yield', '“', 'identified', '”', 'lignin', 'small', 'ncbs', 'grains', 'oryza', 'phenotype', 'changes', 'qtls', 'laccases', 'carried', 'varieties', 'process'], 'label': 'Science'}, 'https://www.thehindu.com/sci-tech/science/iit-roorkee-team-uses-tamarind-seed-protein-to-treat-chikungunya/article25413180.ece': {'feature-vector': ['protein', 'tcll', 'chikungunya', 'nag', 'found', 'cells', 'host', 'binds', 'sugar', '“', '”', 'moiety', 'prof.', 'nearly', 'first', 'tomar', 'tamarind', 'infectivity', '64', 'binding', 'receptors', 'molecules', 'says', 'reduction', 'rna'], 'label': 'Science'}, 'https://www.thehindu.com/sci-tech/science/hold-no-brief-for-beef-shifting-diets-for-a-sustainable-food-future/article25413096.ece': {'feature-vector': ['beef', 'wri', 'people', 'would', 'diet', 'cattle', 'proteins', 'global', 'need', 'land', 'world', 'years', 'fish', 'meat', 'shift', 'reduce', 'eating', 'many', 'vegetarians', 'eat', 'per', 'day', 'animals', 'indians', 'poultry'], 'label': 'Science'}, 'https://www.thehindu.com/sci-tech/science/nasas-historic-dawn-mission-to-asteroid-belt-comes-to-end/article25403872.ece': {'feature-vector': ['said', 'nasa', 'spacecraft', 'mission', '’', 'ceres', 'orbit', 'two', 'solar', 'dwarf', '“', '”', '—', 'largest', 'asteroid', 'belt', 'system', 'space', 'vesta', 'planet', 'years', 'around', 'objects', 'fuel', 'many'], 'label': 'Science'}, 'https://www.thehindu.com/sci-tech/science/indian-us-satellites-find-black-hole-that-spins-near-maximum-possible-rates/article25391983.ece': {'feature-vector': ['first', 'hole', '“', '”', 'x-ray', 'rate', 'astrosat', 'universe', 'india', 'satellite', 'spin', 'dedicated', 'astronomy', 'chandra', 'maximum', 'possible', 'exotic', 'fundamental', 'research', 'tifr', 'aspects', 'bhattacharyya', 'telescope', 'sxt', 'indian'], 'label': 'Science'}, 'https://www.thehindu.com/sci-tech/science/nasas-kepler-space-telescope-to-retire/article25382343.ece': {'feature-vector': ['solar', 'kepler', 'space', 'run', 'fuel', 'mission', 'system', 'outside', '—', 'retired', '9-1/2-year', 'detected', 'thousands', 'beyond', 'boosted', 'search', 'worlds', 'might', 'harbour', 'alien', 'life', 'nasa', 'said', 'tuesday.currently', 'orbiting'], 'label': 'Science'}, 'https://www.thehindu.com/sci-tech/science/parker-solar-probe-smashes-record-for-closest-approach-to-sun-nasa/article25371767.ece': {'feature-vector': ['solar', 'spacecraft', 'probe', 'sun', 'parker', 'nasa', 'record', 'team', 'speed', 'first', 'space', 'october', 'said', 'position', 'set', 'closest', 'approach', 'miles', 'surface', 'closer', 'dsn', 'mission', 'u.s.', 'agency', 'launched'], 'label': 'Science'}, 'https://www.thehindu.com/sci-tech/science/nasa-s-parker-solar-probe-closest-ever-to-sun/article25368216.ece': {'feature-vector': ['solar', 'sun', 'probe', 'spacecraft', 'nasa', 'parker', '—', 'miles', 'surface', 'october', 'closer', '“', '”', 'first', 'closest', 'million', 'team', 'said', 'passed', 'record', '26.55', '29', 'approach', 'mission', 'star'], 'label': 'Science'}, 'https://www.thehindu.com/sci-tech/science/space-travel-can-alter-the-brain-study/article25359922.ece': {'feature-vector': ['return', 'changes', 'volume', 'matter', 'space', 'long-term', 'study', 'months', 'earth', 'fluid', 'cerebrospinal', 'white', 'also', 'said', 'following', 'researchers', 'seven', '“', '”', 'may', 'lead', 'first', 'cosmonauts', 'exposure', 'remains'], 'label': 'Science'}, 'https://www.thehindu.com/sci-tech/science/tigers-dwindling-just-six-sub-species-remain-says-study/article25359397.ece': {'feature-vector': ['tigers', '``', 'said', \"''\", 'six', 'different', 'include', 'subspecies', 'species', 'sub-species', 'exist', 'scientists', 'efforts', 'big', 'cats', 'current', 'breeding', 'among', 'study', 'luo', 'distinct', 'years', 'population', 'genetic', 'diversity'], 'label': 'Science'}, 'https://www.thehindu.com/sci-tech/science/specialised-course-to-help-cut-deaths-due-to-medical-errors/article25353658.ece': {'feature-vector': ['accc', 'doctors', 'said', 'sharma', '“', 'hospitals', 'nearly', 'care', 'due', 'negligence', 'patient', 'critical', 'india', '”', 'experts', 'hospital', 'death', 'health', 'university', 'indian', 'steps', 'trained', 'cases', '50,00,000', 'year'], 'label': 'Science'}, 'https://www.thehindu.com/sci-tech/science/demystifying-science-what-is-the-ghost-of-cassiopeia/article25348696.ece': {'feature-vector': ['away', 'cassiopeia', 'eerie', 'also', 'star', '—', '550', 'light', 'years', 'constellation', 'lies', 'stunning', 'slightly', 'nebula', 'known', 'ghost', 'shaped', 'nearby', 'unpredictably', 'variable', 'slowly', 'eroding', 'cloud', 'dust', 'gas'], 'label': 'Science'}, 'https://www.thehindu.com/sci-tech/science/superlungs-gave-dinosaurs-their-agility/article25348293.ece': {'feature-vector': ['dinosaurs', 'air', 'run', 'pumping', 'oxygen', 'according', 'however', 'said', 'researchers', 'birds', 'superefficient', 'bird-like', 'may', 'given', 'energy', 'fight', 'constant', 'supply', 'study.in', 'oxygen-poor', 'mesozoic', 'era', 'nothing', 'able', 'move'], 'label': 'Science'}, 'https://www.thehindu.com/sci-tech/science/worlds-smallest-optical-gyroscope-developed/article25345621.ece': {'feature-vector': ['gyroscope', 'gyroscopes', 'sagnac', 'smaller', 'effect', 'reciprocal', 'beams', 'light', 'developed', '’', 'device', 'new', 'said', 'sensitivity', 'smallest', 'times', 'best', 'researchers', 'today', 'two', 'moving', 'opposite', 'directions', 'using', 'called'], 'label': 'Science'}, 'https://www.thehindu.com/sci-tech/science/watch-the-winners-of-the-2018-nobel-prize-in-chemistry/article25113443.ece': {'feature-vector': ['royal', 'swedish', 'academy', 'sciences', 'awarded', 'prize', 'chemistry', '2018', 'one', 'frances', 'h.', 'arnold', 'jointly', 'george', 'smith', 'sir', 'gregory', 'winter', 'watch', 'video', 'know', 'work', 'fetched'], 'label': 'Science'}, 'https://www.thehindu.com/sci-tech/science/iit-guwahati-uses-aloe-vera-to-remove-oil-from-water/article25345614.ece': {'feature-vector': ['gel', 'oil', 'material', 'even', 'oleophobicity', 'degrees', 'researchers', 'separate', 'conditions', 'membrane', 'used', 'make', 'extremely', 'coated', 'contact', 'angle', 'remained', '“', 'super-oleophobicity', '”', 'says', 'aloe', 'vera', 'oleophobic', 'materials'], 'label': 'Science'}, 'https://www.thehindu.com/sci-tech/science/nccs-approach-makes-bone-marrow-transplantation-more-successful/article25345565.ece': {'feature-vector': ['stem', 'engraftment', 'hematopoietic', 'bone', 'marrow', 'nitric', 'blood', 'increase', 'dr.', '“', '”', 'micro-vesicles', 'weeks', 'transplantation', 'potential', 'oxide', 'mice', '16', 'kale', 'mesenchymal', 'donor', 'says', 'secreted', 'jagged-1', 'cell'], 'label': 'Science'}, 'https://www.thehindu.com/sci-tech/science/machine-ethics/article25345510.ece': {'feature-vector': ['self-driving', 'survey', 'people', 'universal', 'rules', 'wide', 'development', 'ai', 'questions', 'arise', 'many', 'contexts', 'example', 'cars', 'human', 'driver', 'might', 'brake', 'hard', 'save', 'pedestrian', 'subjecting', 'passengers', 'risk', 'move'], 'label': 'Science'}, 'https://www.thehindu.com/sci-tech/science/computational-studies-help-decode-brains-gps/article25345502.ece': {'feature-vector': ['brain', 'spatial', '3d', 'bats', '’', 'navigation', 'help', 'system', '‘', 'place', 'space', 'cell', 'computer', '“', '”', 'predicted', 'studying', 'department', 'biotechnology', 'iit', 'madras', 'rats', 'hope', 'engineering', 'vehicles'], 'label': 'Science'}, 'https://www.thehindu.com/sci-tech/science/india-home-to-two-new-gecko-species/article25345448.ece': {'feature-vector': ['team', 'geckos', 'new', 'species', '’', 'spot-necked', 'anaimudi', 'lizards', 'agasthyamalai', 'hill', 'ranges', 'ghats', 'india', 'including', 'national', 'red', 'surrounding', '“', 'could', '”', 'said', 'studied', 'morphology', 'features', 'tail'], 'label': 'Science'}, 'https://www.thehindu.com/sci-tech/science/new-leaf-warbler-bird-species-discovered-in-indonesia/article25344984.ece': {'feature-vector': ['island', 'new', 'species', 'dna', 'habitat', 'leaf', 'warbler', 'indonesian', 'given', 'national', 'university', 'singapore', 'asian', 'explains', 'dr', 'frank', 'rheindt', 'department', 'biological', 'sciences', 'may', '—', 'genome-wide', 'suitable', 'human'], 'label': 'Science'}, 'https://www.thehindu.com/sci-tech/science/scaled-down-test-for-safe-landing-of-chandrayaan-2-lander/article25339083.ece': {'feature-vector': ['test', 'lander', 'moon', 'vikram', 'chandrayaan-2', 'space', 'said', 'successfully', 'soft', 'safe', 'landing', 'lapt', 'mission', 'indian', 'scaled-down', 'tests', '“', 'completed', 'demonstrate', 'system', 'precise', '”', 'isro', 'gravity', 'compared'], 'label': 'Science'}, 'https://www.thehindu.com/sci-tech/science/cell-sized-robots-can-be-used-to-detect-diseases/article25313568.ece': {'feature-vector': ['mit', 'developed', 'produce', 'cell', 'inside', 'process', 'materials', 'called', 'pockets', 'scientists', 'method', 'mass', 'robots', 'bigger', 'could', 'used', 'monitor', 'conditions', 'oil', 'gas', 'pipeline', 'search', 'disease', 'floating', 'bloodstream'], 'label': 'Science'}, 'https://www.thehindu.com/sci-tech/science/watch-how-cell-sized-robots-are-made/article25309432.ece': {'feature-vector': ['material', 'tiny', 'size', 'strano', 'cell', 'could', 'devices', 'team', 'process', 'brittle', 'materials', 'data', 'graphene', 'said', 'information', 'mit', 'developed', 'produce', 'used', 'inside', 'floating', 'syncells', 'fracturing', 'called', 'pockets'], 'label': 'Science'}, 'https://www.thehindu.com/sci-tech/science/indian-monsoons-influence-atlantic-hurricanes-study/article25309056.ece': {'feature-vector': ['monsoon', 'indian', 'hurricane', '“', '”', 'forecasting', 'la', 'nina', 'strong', 'said', 'monsoons', 'ocean', 'seasonal', 'westward', 'make', 'landfall', 'according', 'research', 'could', 'changes', 'kelly', '’', 'season', 'typically', 'climate'], 'label': 'Science'}, 'https://www.thehindu.com/sci-tech/science/only-32-of-india-is-resilient-to-drought/article25295441.ece': {'feature-vector': ['resilient', 'resilience', 'non-resilient', 'india', 'drought', 'ecosystem', 'found', 'forest', 'cover', 'western', 'evapotranspiration', 'dry', 'nearly', 'states', 'goyal', 'general', 'climate', 'higher', 'ghats', 'pradesh', 'increasing', 'productivity', 'study', 'district', '38'], 'label': 'Science'}, 'https://www.thehindu.com/sci-tech/science/hawkings-wheelchair-thesis-set-to-be-auctioned/article25289453.ece': {'feature-vector': ['22', 'items', '’', 'thesis', 'pounds', 'total', 'personal', 'used', 'cosmic', 'visionary', 'stephen', 'open', 'bids', 'october', '31', 'november', '8', 'online', 'sale', 'announced', 'monday', 'auctioneer', 'christie', 'features', 'including'], 'label': 'Science'}, 'https://www.thehindu.com/sci-tech/science/nobel-chemistry-laureate-shimomura-passes-away-at-90/article25285780.ece': {'feature-vector': ['protein', 'shimomura', 'university', 'u.s.', 'nobel', 'prize', 'died', 'jellyfish', 'later', 'atomic', 'moved', 'often', 'japanese-born', 'marine', 'biologist', 'osamu', 'chemistry', '90', 'alma', 'mater', 'said', 'oct.', '22', 'october', '19'], 'label': 'Science'}, 'https://www.thehindu.com/sci-tech/science/piranha-like-fish-that-menaced-jurassic-seas-unearthed/article25285396.ece': {'feature-vector': ['teeth', 'piranhas', 'said', 'piranhamesodon', '—', '“', '”', 'lived', 'example', 'like', 'evolution', 'kůlbl-ebert', 'germany', 'fossil', 'mouth', 'million', 'years', 'bony', 'flesh', 'victims', 'long', 'jaw', 'lower', 'also', 'show'], 'label': 'Science'}, 'https://www.thehindu.com/sci-tech/science/nasa-names-gamma-ray-constellations-after-godzilla-hulk/article25284866.ece': {'feature-vector': ['fermi', 'constellations', '’', 'sources', 'nasa', 'sky', '—', 'telescope', '“', 'way', '”', 'number', 'new', 'set', 'scientists', 'devised', '21', 'modern', 'characters', 'hulk', 'godzilla', 'visible', 'celebrate', '10', 'space'], 'label': 'Science'}, 'https://www.thehindu.com/sci-tech/science/rare-5-kg-moon-rock-auctioned-for-over-600k/article25277925.ece': {'feature-vector': ['lunar', 'known', 'nwa', '—', 'rr', '‘', '’', 'different', 'auction', 'puzzle', 'according', 'moon', 'discovered', 'example', '“', '”', 'science', 'find', 'examples', 'extremely', 'rare', 'comprised', 'six', 'fragments', 'fit'], 'label': 'Science'}, 'https://www.thehindu.com/sci-tech/science/what-is-a-vampire-burial/article25274657.ece': {'feature-vector': ['ancient', 'rock', 'prevent', 'dead', 'italy', 'university', 'normally', 'reference', 'would', 'find', 'gothic', 'novels', 'discussions', 'medieval', 'mythology', 'found', 'skulls', 'clamped', 'jaws', 'supposedly', 'done', 'returning', 'vampires', 'however', 'recent'], 'label': 'Science'}, 'https://www.thehindu.com/sci-tech/science/ten-breakthroughs-that-made-india-proud/article25263733.ece': {'feature-vector': ['’', 'work', 'made', 'one', 'india', 'many', 'would', 'first', 'partitions', 'british', 'raman', 'light', 'pogson', '—', 'mosquitoes', 'ramanujan', 'number', 'theory', 'indian', 'saha', 'important', 'known', 'photons', 'ross', 'published'], 'label': 'Science'}, 'https://www.thehindu.com/sci-tech/science/challenging-the-emperor-of-all-maladies/article25272999.ece': {'feature-vector': ['cells', '“', '’', '”', 'called', 'one', 'surface', 'proteins', 'allison', 't-cells', 't-cell', 'checkpoint', 'protein', 'radiation', 'even', 'emperor', 'tumour', 'also', 'tried', 'anti-cancer', 'drugs', 'used', 'approach', 'cancers', 'invading'], 'label': 'Science'}, 'https://www.thehindu.com/sci-tech/science/nccr-develops-system-to-estimate-predict-flooding-within-chennai/article25272941.ece': {'feature-vector': ['data', 'chennai', 'flood', '“', '”', 'flooding', 'details', 'module', 'government', 'nccr', 'warning', 'use', 'c-flows', 'predict', 'ward', 'boundaries', 'infrastructure', 'says', 'area', 'based', 'principal', 'india', 'research', 'national', 'centre'], 'label': 'Science'}, 'https://www.thehindu.com/sci-tech/science/existing-drug-can-be-used-for-treating-gallbladder-cancer/article25272933.ece': {'feature-vector': ['mutation', 'gallbladder', 'patients', 'erbb2', 'g12v', 'dr.', 'drug', '“', 'respond', '”', 'g13d', 'mutations', 'therapy', 'pathway', 'kras', 'mice', 'cells', 'likely', 'treatment', 'dutt', 'anti-egfr', 'one', 'based', 'benefit', 'used'], 'label': 'Science'}, 'https://www.thehindu.com/sci-tech/science/bacteria-to-degrade-toluene/article25272923.ece': {'feature-vector': ['toluene', 'degradation', 'studies', 'isolated', 'soil', 'researchers', 'petrochemical', 'samples', 'found', 'using', 'university', 'delhi', 'degraded', 'one', 'wastes', 'paper', 'strains', 'junii', 'showed', 'potential', '—', '“', 'effective', 'strain', 'different'], 'label': 'Science'}, 'https://www.thehindu.com/sci-tech/science/native-shade-trees-better-for-carbon-storage/article25272911.ece': {'feature-vector': ['tree', 'coffee', 'silver', 'diversity', 'trees', 'stocks', 'oak', 'shade', '’', 'forest', 'native', 'species', 'total', 'robusta', 'estates', 'exotic', 'research', 'kodagu', 'farms', 'farmers', 'evergreen', 'cut', 'however', 'change', 'policy'], 'label': 'Science'}, 'https://www.thehindu.com/sci-tech/science/europe-japan-send-spacecraft-on-7-year-journey-to-mercury/article25272865.ece': {'feature-vector': ['’', 'orbit', 'said', 'spacecraft', 'mission', 'planet', 'bepicolombo', 'two', 'probes', 'sun', 'agency', '“', 'bepi', '”', 'solar', 'jaxa', 'european', 'space', 'successfully', 'japan', 'aerospace', 'exploration', 'sent', 'journey', 'esa'], 'label': 'Science'}, 'https://www.thehindu.com/sci-tech/science/superflares-from-young-stars-may-imperil-planets-nasa/article25259601.ece': {'feature-vector': ['stars', 'flares', '’', '—', '“', '”', 'planets', 'programme', 'ultraviolet', 'dwarfs', 'star', 'dwarf', 'planet', 'nasa', 'observing', 'hazmat', 'said', 'galaxy', 'young', 'intense', 'orbiting', 'atmospheres', 'telescope', 'habitable', 'according'], 'label': 'Science'}, 'https://www.thehindu.com/sport/cricket/karthik-and-pandey-see-india-to-victory/article25420284.ece': {'feature-vector': ['west', 'indian', 'three', 'wickets', 'overs', 'rohit', 'wicket', 'krunal', 'kuldeep', 'first', 'eden', 'gardens', 'karthik', 'innings', 'four', 'eighth', 'captain', 'two', 'score', 'yadav', 'picked', 'india', 'early', 'five', 'sharma'], 'label': 'Non-Science'}, 'https://www.thehindu.com/sport/tennis/fairytale-finish-for-kumkhum/article25419924.ece': {'feature-vector': ['luksika', 'kumkhum', 'khromacheva', 'set', 'russian', 'irina', 'second', 'back', 'final', '’', 'wta', 'title', 'point', 'match', 'points', 'opening', 'service', 'three', 'minutes', 'terms', 'lob', 'low', 'drop', '89', 'finding'], 'label': 'Non-Science'}, 'https://www.thehindu.com/sport/tennis/paris-masters-tennis-khachanov-shocks-djokovic-to-lift-title/article25419923.ece': {'feature-vector': ['khachanov', 'paris', 'djokovic', 'serbian', 'game', 'russian', 'could', 'title', 'week', 'win', 'karen', 'caused', 'shocks', 'tennis', 'year', 'overpowering', 'novak', '7-5', '6-4', 'masters', 'final', 'end', 'remarkable', 'spell', 'dominance'], 'label': 'Non-Science'}, 'https://www.thehindu.com/sport/football/indian-super-league-2018-delhi-dynamos-vs-jamshedpur-fc-football-match/article25419857.ece': {'feature-vector': ['delhi', 'hosts', 'cidoncha', 'tiri', 'ball', 'towards', 'first', 'jamshedpur', 'chhangte', 'carmona', 'visitors', 'goal', 'teams', 'corner', 'however', 'coming', 'fc', 'goals', 'adria', '39th', 'free-kick', 'found', 'unmarked', 'defender', 'danger'], 'label': 'Non-Science'}, 'https://www.thehindu.com/sport/football/chennai-city-too-hot-for-gokulam/article25419760.ece': {'feature-vector': ['chennai', 'manzi', 'city', 'goal', 'team', 'fc', 'kerala', 'home', 'got', 'lead', 'minute', 'came', 'danger', 'much', 'antonio', 'german', 'equaliser', 'pedro', 'nestor', 'time', 'shot', 'pravitto', 'raju', 'better', 'ameerudeen'], 'label': 'Non-Science'}, 'https://www.thehindu.com/sport/football/arsenal-slows-down-liverpools-march/article25419758.ece': {'feature-vector': ['1', 'minutes', 'real', 'league', 'first', 'liga', 'madrid', 'juventus', '2', 'bt', 'lacazette', 'win', 'premier', 'three', 'top', 'tottenham', 'wolves', 'victory', 'dembele', '61', 'la', 'four', 'cuadrado', 'lost', '3'], 'label': 'Non-Science'}, 'https://www.thehindu.com/sport/cricket/krunal-pandya-makes-an-impact/article25419747.ece': {'feature-vector': ['india', 'first', 'runs', 'indian', 'all-rounder', 'national', 't20', 'ipl', 'matches', 'left-arm', 'mumbai', 'pandya', 'aberration', 'cricket', 'rare', 'hand', 'get', 'cap', 'late', '20s.however', '27-year-old', 'elder', 'brother', 'hardik', 'kind'], 'label': 'Non-Science'}, 'https://www.thehindu.com/sport/cricket/indrajith-hits-unbeaten-century/article25419653.ece': {'feature-vector': ['day', 'indrajith', 'two', 'vijay', 'b.', '—', 'hirwani', 'b', 'final', 'innings', 'tamil', 'nadu', 'aparajith', 'flick', 'boundaries', 'good', 'ankit', 'pandey', 'c', 'first', 'lead', 'century', '103', '236', 'four'], 'label': 'Non-Science'}, 'https://www.thehindu.com/sport/football/blasters-seek-first-home-win/article25419634.ece': {'feature-vector': ['blasters', 'matches', 'defence', 'said', 'kerala', 'strong', 'win', 'side', 'team', 'hard', 'match', '”', 'home', 'draws', 'fc', 'isl', 'much', 'difficult', 'chhetri', 'striker', 'miku', 'goals', 'season', '—', 'coach'], 'label': 'Non-Science'}, 'https://www.thehindu.com/sport/cricket/mumbai-opts-for-batting-practice/article25419552.ece': {'feature-vector': ['’', 'tyagi', 'match', 'railways', 'decisions', '”', '—', 'innings', 'singh', 'season', 'point', 'three', 'bowled', 'good', 'aditya', 'tare', 'unbeaten', '100', '2x6', 'shivam', 'dube', '69', 'kulkarni', 'bowling', '1st'], 'label': 'Non-Science'}, 'https://www.thehindu.com/sport/motorsport/banerjee-mohsin-corner-glory/article25419545.ece': {'feature-vector': ['madesh', 'championship', 'final', '1', 'peregrine', 'shahan', 'ali', 'mohsin', 'ishaan', '2', '3', 'individual', 'champion', 'points', 'team', 'sport', 'debarun', 'banerjee', 'micromax', 'champions', 'rotax', 'racing', 'birel', 'art', 'msport'], 'label': 'Non-Science'}, 'https://www.thehindu.com/sport/motorsport/amittrajit-rules-in-arunachal/article25419523.ece': {'feature-vector': ['team', '1', 'amittrajit', 'ashwin', '3', 'champions', 'mahindra', 'adventure', '’', 'ghosh', 'naik', 'rally', 'third', 'phalguna', 'urs', 'srikanth', '.inrc', 'motorsports', 'due', 'issue', 'back', 'ninth', 'day', 'second', 'inrc'], 'label': 'Non-Science'}, 'https://www.thehindu.com/sport/hockey/when-charlesworth-batted-down-memory-lane/article25419513.ece': {'feature-vector': ['’', 'said', 'fast', 'bowler', 'australia', 'world', 'fastest', 'would', 'bowlers', 'keeper', 'batsman', 'thomson', 'course', 'hockey', '—', 'cup', 'cricket', 'could', 'great', 'fan', 'think', 'know.', 'waca', 'india', 'following'], 'label': 'Non-Science'}, 'https://www.thehindu.com/sport/other-sports/lakshya-spearheads-indias-challenge/article25419425.ece': {'feature-vector': ['junior', 'lakshya', 'sen', '’', 'championships', 'beginning', 'november', 'followed', 'seeded', 'kiran', 'george', 'priyanshu', 'rajawat', 'alap', 'mishra', 'boys', 'malvika', 'bansod', 'gayatri', 'gopichand', 'krishna', 'singh', 'sai', 'p.', 'bhatt'], 'label': 'Non-Science'}, 'https://www.thehindu.com/sport/cricket/andhra-takes-first-innings-lead/article25419414.ece': {'feature-vector': ['c', 'markande', 'bhui', 'shoaib', 'anmolpreet', '—', 'innings', 'andhra', 'punjab', '’', 'kumar', 'singh', 'scored', 'first', 'kaul', 'gurkeerat', 'vijay', 'wickets', 'century', 'ricky', '8', 'khan', 'lead', 'mayank', 'knock'], 'label': 'Non-Science'}, 'https://www.thehindu.com/sport/cricket/zimbabwe-tour-of-bangladesh-bangladesh-vs-zimbabwe-first-test-day-2/article25419344.ece': {'feature-vector': ['chatara', 'zimbabwe', 'first', 'runs', 'spinner', 'claimed', 'wickets', 'taijul', 'innings', 'raza', 'three', 'test', 'mushfiqur', 'five', 'fourth', 'chakabva', 'caught', 'nazmul', 'bowler', 'sylhet', 'bowled', 'hosts', 'left-arm', 'islam', 'end'], 'label': 'Non-Science'}, 'https://www.thehindu.com/sport/races/starlight-has-an-edge-in-main-event/article25419147.ece': {'feature-vector': ['5', '1', '4', '6', 'singh', '7', '8', '56', 'kumar', '54.5', '9', '60', 'cat', '59', 'ii', '10', 'ans', '’', 'rated', 'md', 'ismail', '1,400m', 'plate', 'div', '4-y-o'], 'label': 'Non-Science'}, 'https://www.thehindu.com/sport/races/exclusive-wind-wins-main-event/article25418926.ece': {'feature-vector': ['4', '2', '3', 'mr.', 'reddy', 'singh', 'rated', 'cat', '1m', 'w', 'p', 'shp', 'fp', 'q', 'tla', 'favourite', 'trainer', 'kumar', 'owner', 'plate', '46', '9', '7', '3/4', 'tkts'], 'label': 'Non-Science'}, 'https://www.thehindu.com/sport/cricket/indian-bowlers-who-have-taken-10-wickets-in-an-innings-in-first-class-and-tests/article25418424.ece': {'feature-vector': ['taken', '10-wickets', 'innings', 'first-class', 'tests', '50', 'world', 'jim', 'laker', 'anil', 'kumble', 'claimed', 'look', 'indian', '10', 'wickets'], 'label': 'Non-Science'}, 'https://www.thehindu.com/sport/cricket/south-africa-tour-of-australia-australia-vs-south-africa-first-odi-in-perth/article25418093.ece': {'feature-vector': ['c', 'de', 'kock', 'coulter-nile', 'stoinis', 'australia', 'steyn', 'phehlukwayo', 'klaasen', 'africa', 'wickets', 'first', 'hendricks', 'overs', 'starc', 'hazlewood', 'ngidi', 'tahir', 'south', 'took', 'cummins', 'finch', 'bowling', 'du', 'plessis'], 'label': 'Non-Science'}, 'https://www.thehindu.com/sport/youth-olympic-games-2018-kicks-off-in-buenos-aires/article25149375.ece': {'feature-vector': ['opening', 'ceremony', 'youth', 'olympic', '2018', 'argentinian', 'capital', 'buenos', 'aires', 'saturday', 'glitzy', 'event', 'streets', 'first', 'time', 'bring', '4,000', 'athletes', '206', 'teams', 'aged', '15-18'], 'label': 'Non-Science'}, 'https://www.thehindu.com/sport/cricket/alastair-cook-gallery/article24926444.ece': {'feature-vector': ['england', 'batsman', 'alastair', 'cook', '12-year', 'test', 'career', 'come', 'end', 'finished', 'highest', 'run-getter', 'also', 'fifth-highest', 'run-scorer', 'format', 'best', '“', 'chef', '”'], 'label': 'Non-Science'}, 'https://www.thehindu.com/sport/cricket/india-in-england-test-matches-memorable-moments-picture-gallery/article24569817.ece': {'feature-vector': [], 'label': 'Non-Science'}, 'https://www.thehindu.com/sport/football/fifa-2018-final-in-pictures-how-france-celebrated/article24431821.ece': {'feature-vector': [], 'label': 'Non-Science'}, 'https://www.thehindu.com/sport/football/top-goals-in-fifa-world-cup-2018/article24291819.ece': {'feature-vector': [], 'label': 'Non-Science'}, 'https://www.thehindu.com/sport/cricket/watch-a-lookback-at-the-icc-womens-t20-championship/article25412465.ece': {'feature-vector': ['icc', 'women', 'world', 'twenty20', 'hosted', 'west', 'indies', 'november', '9', '24', 'matches', 'held', 'three', 'venues', 'viz', 'national', 'darren', 'sammy', 'cricket', 'ground', 'gros', 'islet', 'sir', 'vivian', 'richards'], 'label': 'Non-Science'}, 'https://www.thehindu.com/sport/football/indian-super-league-2018-chennaiyin-fc-vs-mumbai-city-fc-football-match/article25414646.ece': {'feature-vector': ['’', 'minute', 'chennaiyin', 'sougou', 'ball', 'shot', 'orlandi', 'city', 'fc', 'win', 'got', 'singh', 'second', 'past', 'modou', 'strike', 'games', 'fifth', 'run', 'gregory', 'game', 'goal', 'sent', 'inside', 'box'], 'label': 'Non-Science'}, 'https://www.thehindu.com/sport/football/rashford-martial-to-uniteds-rescue/article25414708.ece': {'feature-vector': ['’', 'bournemouth', '11', 'rashford', 'league', 'mertens', 'points', 'lost', 'united', 'scored', 'behind', 'four', 'wilson', 'chances', 'griezmann', 'atletico', 'go', 'leganes', 'point', 'bayern', '2', '90', 'drew', 'bt', 'manchester'], 'label': 'Non-Science'}, 'https://www.thehindu.com/sport/hockey/11-a-side-internationals-to-stay/article25414336.ece': {'feature-vector': ['played', 'fih', 'game', 'also', '“', '”', 'turf', 'level', 'would', 'olympics', 'weil', 'teams', 'surface', 'international', 'continue', '11-a-side', 'taken', 'countries', 'take', 'development', '5-a-side', 'games', 'important', 'instead', 'people'], 'label': 'Non-Science'}, 'https://www.thehindu.com/sport/hockey/marijne-and-john-did-not-treat-me-well-says-sardar-on-shock-retirement/article25413475.ece': {'feature-vector': ['“', '”', '’', 'coach', 'sardar', 'indian', 'hockey', 'treated', 'john', 'things', 'worse', 'players', 'singh', 'one', 'greatest', 'centre-halfs', 'forced', 'retire', 'badly.speaking', 'ekamra', 'sports', 'literary', 'festival', 'saturday', 'revealed'], 'label': 'Non-Science'}, 'https://www.thehindu.com/sport/hockey/hil-a-game-changer-for-indian-players/article25289992.ece': {'feature-vector': ['“', 'india', '”', 'game', 'players', 'convinced', 'asian', 'games', 'one', 'time', 'country', 'would', 'play', 'cricket', 'said', 'test', 'hil', 'especially', 'right', 'teams', 'men', 'women', 'felt', 'even', 'penalty'], 'label': 'Non-Science'}, 'https://www.thehindu.com/sport/tennis/paris-masters-djokovics-epic-victory-over-federer-among-the-hardest-wins/article25417403.ece': {'feature-vector': ['“', '”', 'djokovic', '’', 'match', 'said', 'masters', 'break', 'crowd', 'paris', 'net', 'novak', 'best', 'points', 'one', 'roger', 'rivalry', '3', 'saved', 'right', 'level', 'title'], 'label': 'Non-Science'}, 'https://www.thehindu.com/sport/tennis/its-been-a-very-positive-year-says-divij-sharan/article25363488.ece': {'feature-vector': ['one', 'divij', 'wimbledon', 'year', 'atp', 'rankings', 'best', 'doubles', 'mahesh', 'leander', 'rohan', 'bopanna', 'place', 'challenger', 'quarterfinal', 'sitak', 'career-best', 'ranking', 'different', 'played', 'bigger', 'lot', '250s', 'play', 'would'], 'label': 'Non-Science'}, 'https://www.thehindu.com/sport/races/phenomenal-cruise-may-extend-winning-streak/article25413874.ece': {'feature-vector': ['1', '4', '6', '5', 'singh', '7', '60', '8', 'rated', 'cat', 'kumar', '58', 'c.', 'phenomenal', '1,600m', 'plate', 'koushik', '57', 'umesh', 'ajit', '10', '9', 'cruise', 'cup', '5-y-o'], 'label': 'Non-Science'}, 'https://www.thehindu.com/sport/other-sports/india-enters-final/article25406410.ece': {'feature-vector': ['japan', 'australia', 'bt', 'division', 'rebounds', 'hong', 'kong', 'india', 'forward', '11', 'china', '10', 'b', '’', 'play', 'kazakhstan', 'harshitha', 'bopaiah', '—', '18', '16', 't.', 'dharshini', '15', 'small'], 'label': 'Non-Science'}, 'https://www.thehindu.com/sport/other-sports/biles-wins-record-13th-world-gold-but-denied-clean-sweep/article25406347.ece': {'feature-vector': ['first', 'biles', 'world', 'medals', 'record', 'gymnast', 'set', 'medal', 'week', 'bar', 'ever', 'win', 'championship', 'victory', 'individual', 'vault', 'competition', 'american', 'all-time', '’', 'doha', 'potential', 'clean', 'sweep', 'derwael'], 'label': 'Non-Science'}, 'https://www.thehindu.com/sport/other-sports/coming-to-india-was-pivotal/article25382948.ece': {'feature-vector': ['australia', '“', '”', 'year', 'team', 'agnes', 'one', '10', 'basketball', 'felt', 'parents', 'helped', 'last', 'first', 'time', 'making', 'going', 'guard', 'points', 'rebounds', 'perhaps', 'indication', 'all-embracing', 'culture', 'u-18'], 'label': 'Non-Science'}, 'https://www.thehindu.com/sport/other-sports/india-makes-it-to-division-b/article25414637.ece': {'feature-vector': ['division', 'points', 'china', '’', 'teams', 'japan', 'bt', 'two', 'pushpa', '10', 'final', 'third', 'women', 'b', 'kazakhstan', '—', '“', '”', 'results', 'good', 'like', 'australia', 'harshitha', 'bopaiah', 'continued'], 'label': 'Non-Science'}, 'https://www.thehindu.com/sport/athletics/my-name-will-be-cleared-ben-johnson/article25414586.ece': {'feature-vector': ['’', 'johnson', 'race', 'world', 'seoul', 'olympic', 'lewis', 'canada', 'seconds', 'later', 'years', 'name', 'cleared', 'think', 'destiny', 'waited', '30', 'would', 'coach', 'said', 'day', 'festival', 'loved', 'session', 'september'], 'label': 'Non-Science'}, 'https://www.thehindu.com/sport/tennis/terrific-irina-brings-down-dalila/article25414557.ece': {'feature-vector': ['russian', 'second', 'year', 'game', 'games', 'khromacheva', 'sets', 'semifinal', 'much', 'saturday', 'one', 'points', 'intelligent', 'played', 'tennis', 'two', 'court', 'hard', 'clay', '3-0', 'lead', 'point', 'run', 'next', 'three'], 'label': 'Non-Science'}, 'https://www.thehindu.com/sport/cricket/when-brian-missed-bunty/article25414476.ece': {'feature-vector': ['’', 'cricket', 'first', 'bunty', 'lara', 'team', '“', 'days', 'funeral', '”', '277', 'dream', 'son', 'represent', 'live', 'day.brian', 'picked', 'squad', '1989', 'take', 'visiting', 'indians', 'start', 'ardent', 'fan'], 'label': 'Non-Science'}, 'https://www.thehindu.com/sport/cricket/shaw-has-the-metal-tenacity/article25414474.ece': {'feature-vector': ['prithvi', 'mentally', 'like', 'game', 'cricket', 'shaw', 'strong', 'everyone', '’', '—', 'technique', 'international', 'brian', 'lara', 'others', 'also', 'tendulkar', 'state', 'great', 'disappointed', 'sad', 'things', 'read', 'comparisons', 'people'], 'label': 'Non-Science'}, 'https://www.thehindu.com/sport/football/dynamos-eye-first-full-points/article25414459.ece': {'feature-vector': ['side', 'goals', 'dynamos', 'jamshedpur', '’', 'players', 'play', 'four', 'hard', '“', '”', 'make', 'need', 'change', 'fortunes', 'season', 'fc', 'finishing', 'highest', 'three', 'poor', 'conversion', 'rate', '4.83', 'last'], 'label': 'Non-Science'}, 'https://www.thehindu.com/sport/football/gokulam-eager-to-score-its-first-win/article25414431.ece': {'feature-vector': ['“', '”', '’', 'good', 'time', 'want', 'gokulam', 'fc', 'getting', 'two', 'draw', 'head', 'coach', 'another', 'boys', 'ccfc', 'spain', 'players', 'said', 'home', 'well', 'kerala', 'keen', 'past', 'much-fancied'], 'label': 'Non-Science'}, 'https://www.thehindu.com/sport/hockey/hil-set-to-return-in-latter-half-of-2019/article25414390.ece': {'feature-vector': ['“', 'league', 'hil', 'hockey', 'india', 'held', 'confirmed', 'half', '2019', 'men', '’', 'women', 'players', '”', 'official', 'last', '2017', 'suspended', 'current', 'year', 'concerns', 'surmounting', 'lucrative', 'franchise-based', 'competition'], 'label': 'Non-Science'}, 'https://www.thehindu.com/sport/cricket/icc-trims-number-of-meetings/article25414263.ece': {'feature-vector': ['cricket', 'annual', 'meeting', 'one', 'february', 'conference', 'independent', 'international', 'meetings', 'three', 'next', 'year', 'quarterly', 'singapore', 'director', 'board', 'first', 'take', 'early', 'period', '—', 'chairman', 'adopted', 'boards', 'india'], 'label': 'Non-Science'}, 'https://www.thehindu.com/sport/cricket/langer-vows-to-bring-the-smiles-back/article25414224.ece': {'feature-vector': ['said', '”', 'australia', 'cricket', 'australian', '’', 'put', 'back', 'plessis', 'series', 'david', 'play', 'good', 'start', 'taking', 'coach', 'south', 'skipper', 'du', 'toned', 'one-day', 'two', 'sunday', 'first', 'since'], 'label': 'Non-Science'}, 'https://www.thehindu.com/sport/cricket/its-all-about-trying-to-adapt-ashwin/article25414192.ece': {'feature-vector': ['australia', 'go', 'time', 'game', 'things', 'tour', 'last', 'bowling', 'years', 'test', 'india', 'ranji', 'trophy', 'overseas', 'tours', 'trying', 'adapt', 'work', 'best', 'find', 'early', 'see', 'also', 'need', 'played'], 'label': 'Non-Science'}, 'https://www.thehindu.com/sport/cricket/west-indies-tour-of-india-india-vs-west-indies-first-t20-international-in-kolkata/article25414028.ece': {'feature-vector': ['said', '”', 'brathwaite', 'team', 'tag', 'west', 'indies', 'captain', 'young', 'side', 'take', 'lot', 'better', 'want', 'end', 'series', 'head-to-head', 'virat', 'dhoni', 'indian', 'giving', 'host', 'india', 'favourite', 'form'], 'label': 'Non-Science'}, 'https://www.thehindu.com/sport/cricket/rayudu-announces-retirement-from-first-class-cricket-to-focus-on-shorter-formats/article25413958.ece': {'feature-vector': ['including', 'hyderabad', 'association', 'surprise', 'ranji', '“', 'play', 'bcci', '”', 'development', 'india', 'player', 'ambati', 'decided', 'retire', 'longer', 'version', 'game', 'trophy.in', 'communication', 'saturday', '33-year-old', 'informed', 'wanted', 'focus'], 'label': 'Non-Science'}, 'https://www.thehindu.com/sport/races/battalion-claims-merchants-cup/article25413370.ece': {'feature-vector': ['1', '2', '4', 'kumar', '6', 'w', 'p', 'shp', 'fp', 'q', 'tla', 'favourite', 'trainer', 'plate', '1m', 'm.', 'rated', '5', '’', 'darashah', 'brisson', 'owner', 'mr.', 'mrs.', 'p.'], 'label': 'Non-Science'}, 'https://www.thehindu.com/sport/races/star-cracker-wins-air-force-trophy/article25413102.ece': {'feature-vector': ['2', '4', '1m', 'w', 'p', 'shp', 'thp', 'fp', 'q', 'trinella', 'exacta', 'favourite', 'trainer', 'rated', '15', 'plate', 'arshad', 'owner', 'ltd.', '35', 'k', 'run', '16', '1,200m', 'sandesh'], 'label': 'Non-Science'}, 'https://www.thehindu.com/sport/cricket/ck-nayudu-trophy-perfect-10-for-sidak-singh-against-manipur/article25413065.ece': {'feature-vector': ['mumbai', 'manipur', '“', '”', 'wickets', 'among', 'cricket', 'cap', '10', '’', 'bowler', 'singh', 'trophy', 'puducherry', '—', 'seven', 'played', 'prithvi', 'two', 'said', 'attacking', 'batsman', 'vijay', 'merchant', 'scoring'], 'label': 'Non-Science'}, 'https://www.thehindu.com/sport/races/prevalent-force-another-rainbow-different-league-setaglow-fair-warning-and-psychic-warrior-excel/article25412703.ece': {'feature-vector': ['well', 'moved', 'finished', '2-y-o', 'r.', 'lengths', 'former', '600/42', 'strode', 'sandesh', 'marshall', 'ahead', 'antony', '1,000/1-12.5', '600/44.5', 'force', 'level', 'two', '600/44', 'fine', 'mudassar', '600/42.5', '1,000/1-11.5', '1-26.5', 'srinath'], 'label': 'Non-Science'}, 'https://www.thehindu.com/sport/races/othello-shines/article25412686.ece': {'feature-vector': ['2/y/os', 'former', '600/38', 'lengths', '600/41', 'freely', 'raghuveer', 'p.naidu', 'well', 'finished', 'chouhan', '600/39', '55', 'easy', 'othello', 'rb', 'level', '51', 'three', 'ahead', '52', 'd.a.naik', 'ended', '54', 'four'], 'label': 'Non-Science'}, 'https://www.thehindu.com/sport/cricket/west-indies-tour-of-india-india-vs-west-indies-t20-international-series/article25412633.ece': {'feature-vector': ['said', 'rohit', '”', 'side', '’', 'world', 'west', 'indies', 'captain', 'team', 'need', 'done', 'players', 'task', 'stand-in', 'strong', 'play', 'understand', 'bring', 'lot', 'cricket', 'rotation', 'process', 'balance', 'got'], 'label': 'Non-Science'}, 'https://www.thehindu.com/sport/cricket/west-indies-tour-of-india-india-vs-west-indies-first-t20-international-in-kolkata/article25412537.ece': {'feature-vector': ['india', 'indies', 't20', 'rohit', 'russell', 'two', 'world', 'captain', 'squad', 'icc', 'venue', 'pant', 'west', 'formats', '—', 'odis', 'new', 'final', 'kohli', 'sharma', 'record', 'team', 'five', 'match', 'looking'], 'label': 'Non-Science'}}\n"
     ]
    }
   ],
   "source": [
    "print(articleSummaries)"
   ]
  },
  {
   "cell_type": "code",
   "execution_count": 13,
   "metadata": {},
   "outputs": [],
   "source": [
    "def getDoxyDonkeyText(testUrl, token):\n",
    "    \"\"\"\n",
    "    This is the function to read text from the doxy donkey post. We will read posts from this blog collection\n",
    "    and use the data from our The Hindu and The NewYork Times papers to classify if it is Science or Non-Science\n",
    "    \"\"\"\n",
    "    response = requests.get(testUrl)\n",
    "    soup = BeautifulSoup(response.content)\n",
    "    page = str(soup)\n",
    "    title = soup.find(\"title\").text.strip()\n",
    "    mydivs = soup.findAll(\"div\", {\"class\":token})\n",
    "    text = ''.join(map(lambda d : d.text, mydivs))\n",
    "    return text, title"
   ]
  },
  {
   "cell_type": "code",
   "execution_count": 14,
   "metadata": {},
   "outputs": [],
   "source": [
    "testUrl = \"http://doxydonkey.blogspot.com/\"\n",
    "testArticle = getDoxyDonkeyText(testUrl,\"post-body\")\n",
    "# print(testArticle)"
   ]
  },
  {
   "cell_type": "code",
   "execution_count": 15,
   "metadata": {},
   "outputs": [],
   "source": [
    "fs = FrequencySummarizer()\n",
    "# get the summary of the test article in the given limit of features\n",
    "testArticleSummary = fs.extractFeatures(testArticle, 25)"
   ]
  },
  {
   "cell_type": "code",
   "execution_count": 16,
   "metadata": {},
   "outputs": [],
   "source": [
    "similarities = {}\n",
    "for articleUrl in articleSummaries:\n",
    "    # pass through all the article Summaries and check each of their similarity with the test article\n",
    "    oneArticleSummary = articleSummaries[articleUrl]['feature-vector']\n",
    "    similarities[articleUrl] = len(set(testArticleSummary).intersection(set(oneArticleSummary)))"
   ]
  },
  {
   "cell_type": "code",
   "execution_count": 17,
   "metadata": {},
   "outputs": [
    {
     "name": "stdout",
     "output_type": "stream",
     "text": [
      "['Science']\n"
     ]
    }
   ],
   "source": [
    "labels = defaultdict(int)\n",
    "# get the top 5 train articles which are nearest to the test article. Nearest here means how many words, both the\n",
    "# summaries of the test and train articles have in common\n",
    "knn = nlargest(5, similarities, key = similarities.get)\n",
    "for oneNeighbour in knn:\n",
    "    labels[articleSummaries[oneNeighbour]['label']] += 1\n",
    "\n",
    "# Each of the neighbours vote if the article is science or non-science. The label which is in majority is tagged\n",
    "# to the article\n",
    "print(nlargest(1, labels, key = labels.get))"
   ]
  },
  {
   "cell_type": "code",
   "execution_count": 18,
   "metadata": {},
   "outputs": [
    {
     "name": "stdout",
     "output_type": "stream",
     "text": [
      "['company', 'china', 'said', 'new', 'year', 'billion', 'uber', 'million', 'percent', 'technology', 'people', 'could', 'investors', 'amazon', 'drivers', 'money', '1', 'chief', 'like', 'india', 'bitcoin', 'last', 'years', 'pinterest', 'raised']\n"
     ]
    }
   ],
   "source": [
    "# Just validating if the article summary truly has science related words\n",
    "print(testArticleSummary)"
   ]
  },
  {
   "cell_type": "code",
   "execution_count": 19,
   "metadata": {},
   "outputs": [],
   "source": [
    "# Now we will carry out the same classification problem but using a different approach - Naive bayes Classifier\n",
    "\n",
    "cumulativeRawFrequencies = {'Science': defaultdict(int), 'Non-Science': defaultdict(int)}\n",
    "# Clubbing together Sciencee and Non-Science data from The Hindu\n",
    "trainingData = {'Science': theHinduScienceArticles, 'Non-Science' : theHinduNonScienceArticles}\n",
    "for label in trainingData:\n",
    "    # For each label in trainingData\n",
    "    for articleUrl in trainingData[label]:\n",
    "        # For each url in the training data for the specified label\n",
    "        if (len(trainingData[label][articleUrl][0]) > 0):\n",
    "            # If the text length of the article of specified url and label is greater than 0\n",
    "            fs = FrequencySummarizer()\n",
    "            rawFrequencies = fs.extractRawFrequencies(trainingData[label][articleUrl])\n",
    "            for eachWord in rawFrequencies:\n",
    "                # For each word in the raw frequencies count increase the cumulative raw frequency value by the \n",
    "                # value of word frequency. This will create a cumulative frequency count of each word in the \n",
    "                # whole corpus\n",
    "                cumulativeRawFrequencies[label][eachWord] += rawFrequencies[eachWord]\n"
   ]
  },
  {
   "cell_type": "code",
   "execution_count": 20,
   "metadata": {},
   "outputs": [],
   "source": [
    "# initialise the likelihood of this article being scientific and non-scientific to both 1.0\n",
    "\n",
    "scientific = 1.0\n",
    "non_scientific = 1.0\n",
    "\n",
    "for eachWord in testArticleSummary:\n",
    "    # for each feature of the test Article, compute the conditional probability of that word(feature) being in \n",
    "    # an article given that the article is a science article\n",
    "    if eachWord in cumulativeRawFrequencies['Science']:\n",
    "        scientific *= 1e3 * cumulativeRawFrequencies['Science'][eachWord] / \\\n",
    "                                                float(sum(cumulativeRawFrequencies['Science'].values()))\n",
    "        # P(Science/Words in Article) = P(Science) * P(word1/Science) * P(word2/Science)...\n",
    "    else:\n",
    "        # if the word is not found at all in the cumulative Raw Frequency dictionary, then we multiply by\n",
    "        # a very small number instead of following the theorectial rule of multiplying by 0. Otherwise for \n",
    "        # a single missing word in the corpus, the entire 'scietific' value of the article will become 0\n",
    "        scientific /= 1e3\n",
    "    if eachWord in cumulativeRawFrequencies['Non-Science']:\n",
    "        non_scientific *= 1e3 * cumulativeRawFrequencies['Non-Science'][eachWord] / \\\n",
    "                                                float(sum(cumulativeRawFrequencies['Non-Science'].values()))\n",
    "    else:\n",
    "        non_scientific /= 1e3\n",
    "    "
   ]
  },
  {
   "cell_type": "code",
   "execution_count": 21,
   "metadata": {},
   "outputs": [
    {
     "name": "stdout",
     "output_type": "stream",
     "text": [
      "Science 2.522274924938075e-27 1.3848700402224402e-29\n"
     ]
    }
   ],
   "source": [
    "# we need to scale the scientific and non-scientific of this article by the probabilites of overall scientific \n",
    "# and non-scientific. (OR) the ratio of number of words in the scientific and non-scientific articles respectively\n",
    "# to the total number of words\n",
    "\n",
    "scientific *= float(sum(cumulativeRawFrequencies['Science'].values())) / \\\n",
    "                        (float(sum(cumulativeRawFrequencies['Science'].values())) + \\\n",
    "                         float(sum(cumulativeRawFrequencies['Non-Science'].values())))\n",
    "\n",
    "non_scientific *= float(sum(cumulativeRawFrequencies['Non-Science'].values())) / \\\n",
    "                        (float(sum(cumulativeRawFrequencies['Science'].values())) + \\\n",
    "                         float(sum(cumulativeRawFrequencies['Non-Science'].values())))\n",
    "\n",
    "if scientific > non_scientific:\n",
    "    label = 'Science'\n",
    "else:\n",
    "    label = 'Non-Science'\n",
    "    \n",
    "print(label, scientific, non_scientific)"
   ]
  },
  {
   "cell_type": "code",
   "execution_count": 68,
   "metadata": {},
   "outputs": [],
   "source": [
    "count = 0\n",
    "def getAllDoxyDonkeyPosts(urls, links):\n",
    "    \"\"\"\n",
    "    This is the function to read the texts from all the links in the main url of the doxy donkey post. We will \n",
    "    read posts from this blog collection and use the data from our The Hindu and The NewYork Times papers to \n",
    "    classify if it is Science or Non-Science.\n",
    "    \"\"\"\n",
    "    response = requests.get(urls)\n",
    "    soup = BeautifulSoup(response.content)\n",
    "    page = str(soup)\n",
    "    for a in soup.findAll('a'):\n",
    "        try :\n",
    "            url = a['href']\n",
    "            title = a['title']\n",
    "            if title == \"Older Posts\":\n",
    "                # for the link names Older Posts, we recursively pass the link to the getAllDoxyDonkeyPosts \n",
    "                # function\n",
    "#                 print(title, url)\n",
    "                links.append(url)\n",
    "                global count\n",
    "                count += 1\n",
    "                if count >= 40: # max 86\n",
    "                    break\n",
    "                getAllDoxyDonkeyPosts(url, links)\n",
    "        except :\n",
    "            title = \"\"\n",
    "    return"
   ]
  },
  {
   "cell_type": "code",
   "execution_count": 69,
   "metadata": {},
   "outputs": [],
   "source": [
    "blogUrl = \"http://doxydonkey.blogspot.in\"\n",
    "links = []\n",
    "getAllDoxyDonkeyPosts(blogUrl, links)\n",
    "doxyDonkeyPosts = {}\n",
    "for link in links:\n",
    "    # collet the texts from the links collected\n",
    "    doxyDonkeyPosts[link] = getDoxyDonkeyText(link, 'post-body')"
   ]
  },
  {
   "cell_type": "code",
   "execution_count": 70,
   "metadata": {},
   "outputs": [],
   "source": [
    "documentCorpus = []\n",
    "for onePost in doxyDonkeyPosts.values():\n",
    "    # creating a huge document corpus from all the doxydonkey blogs\n",
    "    documentCorpus.append(onePost[0])"
   ]
  },
  {
   "cell_type": "code",
   "execution_count": 71,
   "metadata": {},
   "outputs": [
    {
     "name": "stdout",
     "output_type": "stream",
     "text": [
      "Initialization complete\n",
      "Iteration  0, inertia 127.407\n",
      "Iteration  1, inertia 66.894\n",
      "Converged at iteration 1: center shift 0.000000e+00 within tolerance 6.436236e-09\n"
     ]
    },
    {
     "data": {
      "text/plain": [
       "KMeans(algorithm='auto', copy_x=True, init='k-means++', max_iter=100,\n",
       "    n_clusters=5, n_init=1, n_jobs=None, precompute_distances='auto',\n",
       "    random_state=None, tol=0.0001, verbose=True)"
      ]
     },
     "execution_count": 71,
     "metadata": {},
     "output_type": "execute_result"
    }
   ],
   "source": [
    "vectorizer = TfidfVectorizer(max_df = 0.8, min_df = 2, stop_words = 'english')\n",
    "X = vectorizer.fit_transform(documentCorpus)\n",
    "km = KMeans(n_clusters = 5, init = 'k-means++', max_iter = 100, n_init = 1, verbose = True)\n",
    "km.fit(X)"
   ]
  },
  {
   "cell_type": "code",
   "execution_count": 72,
   "metadata": {},
   "outputs": [
    {
     "name": "stdout",
     "output_type": "stream",
     "text": [
      "{1: {'said', 'company', 'percent'}, 2: {'“', 'said', '”'}, 3: {'said', 'percent', '“', 'would', 'company', '”', 'million'}, 4: {'said', '“', 'company', '”', 'million'}, 0: {'said', '—', 'percent', 'people', 'million'}}\n"
     ]
    }
   ],
   "source": [
    "keywords = {}\n",
    "for i, cluster in enumerate(km.labels_):\n",
    "    oneDocument = documentCorpus[i]\n",
    "    fs = FrequencySummarizer()\n",
    "    summary = fs.extractFeatures((oneDocument, \"\"), 100, \\\n",
    "                                [u\"according\",u\"also\",u\"billion\",u\"like\",u\"new\", u\"one\",u\"year\",u\"first\",u\"last\"])\n",
    "    if cluster not in keywords:\n",
    "        keywords[cluster] = set(summary)\n",
    "    else:\n",
    "        keywords[cluster] = keywords[cluster].intersection(set(summary))\n",
    "\n",
    "print(keywords)"
   ]
  },
  {
   "cell_type": "code",
   "execution_count": null,
   "metadata": {},
   "outputs": [],
   "source": []
  }
 ],
 "metadata": {
  "kernelspec": {
   "display_name": "Python 3",
   "language": "python",
   "name": "python3"
  },
  "language_info": {
   "codemirror_mode": {
    "name": "ipython",
    "version": 3
   },
   "file_extension": ".py",
   "mimetype": "text/x-python",
   "name": "python",
   "nbconvert_exporter": "python",
   "pygments_lexer": "ipython3",
   "version": "3.6.6"
  }
 },
 "nbformat": 4,
 "nbformat_minor": 2
}
